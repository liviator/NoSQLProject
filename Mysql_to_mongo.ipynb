{
 "cells": [
  {
   "cell_type": "code",
   "execution_count": 2,
   "metadata": {},
   "outputs": [],
   "source": []
  },
  {
   "cell_type": "code",
   "execution_count": 3,
   "metadata": {},
   "outputs": [
    {
     "name": "stdout",
     "output_type": "stream",
     "text": [
      "Empty DataFrame\n",
      "Columns: [Id, Event_type, Date_creation, Date_ajout, Version_file, Graph_id, nature, Object_name, object_path]\n",
      "Index: []\n"
     ]
    }
   ],
   "source": []
  },
  {
   "cell_type": "code",
   "execution_count": 4,
   "metadata": {},
   "outputs": [
    {
     "name": "stdout",
     "output_type": "stream",
     "text": [
      "<class 'pandas.core.frame.DataFrame'>\n",
      "Index: 0 entries\n",
      "Data columns (total 9 columns):\n",
      " #   Column         Non-Null Count  Dtype \n",
      "---  ------         --------------  ----- \n",
      " 0   Id             0 non-null      object\n",
      " 1   Event_type     0 non-null      object\n",
      " 2   Date_creation  0 non-null      object\n",
      " 3   Date_ajout     0 non-null      object\n",
      " 4   Version_file   0 non-null      object\n",
      " 5   Graph_id       0 non-null      object\n",
      " 6   nature         0 non-null      object\n",
      " 7   Object_name    0 non-null      object\n",
      " 8   object_path    0 non-null      object\n",
      "dtypes: object(9)\n",
      "memory usage: 0.0+ bytes\n"
     ]
    }
   ],
   "source": [
    "frame.info()"
   ]
  },
  {
   "cell_type": "code",
   "execution_count": 5,
   "metadata": {},
   "outputs": [],
   "source": [
    "frame2 = frame.append({'Id':'id1', 'Event_type':'event_type','Date_creation':'08-03-2021','Date_ajout':'08-03-2021','Version_file':3, 'Graph_id':'dsd','nature': 'aaa','Object_name': 'name1','object_path':'[RECEIVED, VERIFIED, PROCESSED, REJECTED, REMEDIED]'}, ignore_index=True)"
   ]
  },
  {
   "cell_type": "code",
   "execution_count": 10,
   "metadata": {},
   "outputs": [],
   "source": [
    "frame2['Date_creation'] = pd.to_datetime(frame2['Date_creation'])\n",
    "frame2['Date_ajout'] = pd.to_datetime(frame2['Date_ajout'])"
   ]
  },
  {
   "cell_type": "code",
   "execution_count": null,
   "metadata": {},
   "outputs": [],
   "source": [
    "TO_BE_PURGED, PURGED ,RECEIVED, VERIFIED, PROCESSED, REJECTED, REMEDIED, CONSUMED,"
   ]
  },
  {
   "cell_type": "code",
   "execution_count": 16,
   "metadata": {},
   "outputs": [],
   "source": [
    "def convertToBin(path):\n",
    "    res=''\n",
    "    pathlist = ['TO_BE_PURGED', 'PURGED' ,'RECEIVED', 'VERIFIED', 'PROCESSED', 'REJECTED', 'REMEDIED', 'CONSUMED']\n",
    "    for elem in pathlist:\n",
    "        if elem in path:\n",
    "            res+='1'\n",
    "        else:\n",
    "            res+='0'\n",
    "        res +=' '\n",
    "    return res\n",
    "    "
   ]
  },
  {
   "cell_type": "code",
   "execution_count": 17,
   "metadata": {},
   "outputs": [],
   "source": [
    "new_list=[]\n",
    "for itm in frame2['object_path'].to_list():\n",
    "    new_list.append(convertToBin(itm))\n",
    "frame2['Object_path_bin']=new_list"
   ]
  },
  {
   "cell_type": "code",
   "execution_count": 18,
   "metadata": {},
   "outputs": [],
   "source": [
    "frame2['Object_path_bin']=new_list"
   ]
  },
  {
   "cell_type": "code",
   "execution_count": 19,
   "metadata": {},
   "outputs": [
    {
     "data": {
      "text/html": [
       "<div>\n",
       "<style scoped>\n",
       "    .dataframe tbody tr th:only-of-type {\n",
       "        vertical-align: middle;\n",
       "    }\n",
       "\n",
       "    .dataframe tbody tr th {\n",
       "        vertical-align: top;\n",
       "    }\n",
       "\n",
       "    .dataframe thead th {\n",
       "        text-align: right;\n",
       "    }\n",
       "</style>\n",
       "<table border=\"1\" class=\"dataframe\">\n",
       "  <thead>\n",
       "    <tr style=\"text-align: right;\">\n",
       "      <th></th>\n",
       "      <th>Id</th>\n",
       "      <th>Event_type</th>\n",
       "      <th>Date_creation</th>\n",
       "      <th>Date_ajout</th>\n",
       "      <th>Version_file</th>\n",
       "      <th>Graph_id</th>\n",
       "      <th>nature</th>\n",
       "      <th>Object_name</th>\n",
       "      <th>object_path</th>\n",
       "      <th>Object_path_bin</th>\n",
       "    </tr>\n",
       "  </thead>\n",
       "  <tbody>\n",
       "    <tr>\n",
       "      <th>0</th>\n",
       "      <td>id1</td>\n",
       "      <td>event_type</td>\n",
       "      <td>2021-08-03</td>\n",
       "      <td>2021-08-03</td>\n",
       "      <td>3</td>\n",
       "      <td>dsd</td>\n",
       "      <td>aaa</td>\n",
       "      <td>name1</td>\n",
       "      <td>[RECEIVED, VERIFIED, PROCESSED, REJECTED, REME...</td>\n",
       "      <td>0 0 1 1 1 1 1 0</td>\n",
       "    </tr>\n",
       "  </tbody>\n",
       "</table>\n",
       "</div>"
      ],
      "text/plain": [
       "    Id  Event_type Date_creation Date_ajout Version_file Graph_id nature Object_name                                        object_path   Object_path_bin\n",
       "0  id1  event_type    2021-08-03 2021-08-03            3      dsd    aaa       name1  [RECEIVED, VERIFIED, PROCESSED, REJECTED, REME...  0 0 1 1 1 1 1 0 "
      ]
     },
     "execution_count": 19,
     "metadata": {},
     "output_type": "execute_result"
    }
   ],
   "source": [
    "frame2"
   ]
  },
  {
   "cell_type": "code",
   "execution_count": 21,
   "metadata": {},
   "outputs": [],
   "source": [
    "from pymongo import MongoClient\n"
   ]
  },
  {
   "cell_type": "code",
   "execution_count": 27,
   "metadata": {},
   "outputs": [
    {
     "name": "stdout",
     "output_type": "stream",
     "text": [
      "The database is created.\n"
     ]
    }
   ],
   "source": [
    "from pymongo import MongoClient\n",
    "\n",
    "import pymongo\n",
    "\n",
    "myclient = pymongo.MongoClient(\"mongodb://localhost:27017/\")\n",
    "\n",
    "dblist = myclient.list_database_names()\n",
    "if \"mydatabase\" in dblist:\n",
    "    db = client.mydatabase\n",
    "    print(\"The database exists.\")\n",
    "else:\n",
    "    db = myclient[\"mydatabase\"]\n",
    "    print(\"The database is created.\")\n",
    "\n",
    "collection = db['collection_name']\n",
    "frame2.reset_index(inplace=True)\n",
    "data_dict = frame2.to_dict(\"records\")\n",
    "# Insert collection\n",
    "collection.insert_many(data_dict)"
   ]
  },
  {
   "cell_type": "code",
   "execution_count": 28,
   "metadata": {},
   "outputs": [
    {
     "data": {
      "text/plain": [
       "<pymongo.results.InsertManyResult at 0x1a8c5b4bdc8>"
      ]
     },
     "execution_count": 28,
     "metadata": {},
     "output_type": "execute_result"
    }
   ],
   "source": [
    "collection = db['collection_name']\n",
    "frame2.reset_index(inplace=True)\n",
    "data_dict = frame2.to_dict(\"records\")\n",
    "# Insert collection\n",
    "collection.insert_many(data_dict)"
   ]
  },
  {
   "cell_type": "code",
   "execution_count": 29,
   "metadata": {},
   "outputs": [
    {
     "name": "stdout",
     "output_type": "stream",
     "text": [
      "['admin', 'config', 'local', 'mydatabase']\n"
     ]
    }
   ],
   "source": [
    "print(myclient.list_database_names())"
   ]
  },
  {
   "cell_type": "code",
   "execution_count": 31,
   "metadata": {},
   "outputs": [],
   "source": [
    "mycol= db[\"cllection_name\"]"
   ]
  },
  {
   "cell_type": "code",
   "execution_count": 33,
   "metadata": {},
   "outputs": [
    {
     "name": "stdout",
     "output_type": "stream",
     "text": [
      "{'_id': ObjectId('604f69c0c83f2c62c17816e6'), 'index': 0, 'Id': 'id1', 'Event_type': 'event_type', 'Date_creation': datetime.datetime(2021, 8, 3, 0, 0), 'Date_ajout': datetime.datetime(2021, 8, 3, 0, 0), 'Version_file': 3, 'Graph_id': 'dsd', 'nature': 'aaa', 'Object_name': 'name1', 'object_path': '[RECEIVED, VERIFIED, PROCESSED, REJECTED, REMEDIED]', 'Object_path_bin': '0 0 1 1 1 1 1 0 '}\n"
     ]
    }
   ],
   "source": [
    "cursor = mycol.find({})\n",
    "for document in cursor:\n",
    "    print(document)"
   ]
  },
  {
   "cell_type": "code",
   "execution_count": 40,
   "metadata": {},
   "outputs": [
    {
     "ename": "IndexError",
     "evalue": "no such item for Cursor instance",
     "output_type": "error",
     "traceback": [
      "\u001b[1;31m---------------------------------------------------------------------------\u001b[0m",
      "\u001b[1;31mIndexError\u001b[0m                                Traceback (most recent call last)",
      "\u001b[1;32m<ipython-input-40-4d8fc6328e6e>\u001b[0m in \u001b[0;36m<module>\u001b[1;34m\u001b[0m\n\u001b[0;32m      1\u001b[0m \u001b[0mmyquery\u001b[0m \u001b[1;33m=\u001b[0m \u001b[1;33m{\u001b[0m \u001b[1;34m\"object_path\"\u001b[0m\u001b[1;33m:\u001b[0m \u001b[1;33m{\u001b[0m \u001b[1;34m\"$regex\"\u001b[0m\u001b[1;33m:\u001b[0m \u001b[1;34m\"^.*RECEIVED.*$\"\u001b[0m \u001b[1;33m}\u001b[0m \u001b[1;33m}\u001b[0m\u001b[1;33m\u001b[0m\u001b[1;33m\u001b[0m\u001b[0m\n\u001b[0;32m      2\u001b[0m \u001b[0mmydoc\u001b[0m \u001b[1;33m=\u001b[0m \u001b[0mmycol\u001b[0m\u001b[1;33m.\u001b[0m\u001b[0mfind\u001b[0m\u001b[1;33m(\u001b[0m\u001b[0mmyquery\u001b[0m\u001b[1;33m)\u001b[0m\u001b[1;33m\u001b[0m\u001b[1;33m\u001b[0m\u001b[0m\n\u001b[1;32m----> 3\u001b[1;33m \u001b[0mprint\u001b[0m\u001b[1;33m(\u001b[0m\u001b[0mmydoc\u001b[0m\u001b[1;33m[\u001b[0m\u001b[1;36m10\u001b[0m\u001b[1;33m]\u001b[0m\u001b[1;33m)\u001b[0m\u001b[1;33m\u001b[0m\u001b[1;33m\u001b[0m\u001b[0m\n\u001b[0m",
      "\u001b[1;32mT:\\Anaconda10\\lib\\site-packages\\pymongo\\cursor.py\u001b[0m in \u001b[0;36m__getitem__\u001b[1;34m(self, index)\u001b[0m\n\u001b[0;32m    647\u001b[0m             \u001b[1;32mfor\u001b[0m \u001b[0mdoc\u001b[0m \u001b[1;32min\u001b[0m \u001b[0mclone\u001b[0m\u001b[1;33m:\u001b[0m\u001b[1;33m\u001b[0m\u001b[1;33m\u001b[0m\u001b[0m\n\u001b[0;32m    648\u001b[0m                 \u001b[1;32mreturn\u001b[0m \u001b[0mdoc\u001b[0m\u001b[1;33m\u001b[0m\u001b[1;33m\u001b[0m\u001b[0m\n\u001b[1;32m--> 649\u001b[1;33m             \u001b[1;32mraise\u001b[0m \u001b[0mIndexError\u001b[0m\u001b[1;33m(\u001b[0m\u001b[1;34m\"no such item for Cursor instance\"\u001b[0m\u001b[1;33m)\u001b[0m\u001b[1;33m\u001b[0m\u001b[1;33m\u001b[0m\u001b[0m\n\u001b[0m\u001b[0;32m    650\u001b[0m         raise TypeError(\"index %r cannot be applied to Cursor \"\n\u001b[0;32m    651\u001b[0m                         \"instances\" % index)\n",
      "\u001b[1;31mIndexError\u001b[0m: no such item for Cursor instance"
     ]
    }
   ],
   "source": [
    "def get_life_cycle(obj)myquery = { \"object_path\": { \"$regex\": \"^.*RECEIVED.*$\" } }\n",
    "mydoc = mycol.find(myquery)\n",
    "for x in mydoc:\n",
    "  print(x)"
   ]
  },
  {
   "cell_type": "code",
   "execution_count": null,
   "metadata": {},
   "outputs": [],
   "source": []
  }
 ],
 "metadata": {
  "kernelspec": {
   "display_name": "Python 3",
   "language": "python",
   "name": "python3"
  },
  "language_info": {
   "codemirror_mode": {
    "name": "ipython",
    "version": 3
   },
   "file_extension": ".py",
   "mimetype": "text/x-python",
   "name": "python",
   "nbconvert_exporter": "python",
   "pygments_lexer": "ipython3",
   "version": "3.7.6"
  }
 },
 "nbformat": 4,
 "nbformat_minor": 4
}
