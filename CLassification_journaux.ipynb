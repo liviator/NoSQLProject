{
  "nbformat": 4,
  "nbformat_minor": 0,
  "metadata": {
    "colab": {
      "name": "FinalPythonProject.ipynb",
      "provenance": [],
      "collapsed_sections": [],
      "include_colab_link": true
    },
    "kernelspec": {
      "display_name": "Python 3",
      "name": "python3"
    },
    "language_info": {
      "name": "python"
    }
  },
  "cells": [
    {
      "cell_type": "markdown",
      "metadata": {
        "id": "view-in-github",
        "colab_type": "text"
      },
      "source": [
        "<a href=\"https://colab.research.google.com/github/liviator/NoSQLProject/blob/master/CLassification_journaux.ipynb\" target=\"_parent\"><img src=\"https://colab.research.google.com/assets/colab-badge.svg\" alt=\"Open In Colab\"/></a>"
      ]
    },
    {
      "cell_type": "code",
      "metadata": {
        "colab": {
          "base_uri": "https://localhost:8080/"
        },
        "id": "CtPS9A9b1aSh",
        "outputId": "e167e772-2fbf-4c6d-cea1-fdc60f1cdd30"
      },
      "source": [
        "from requests import get\n",
        "import bs4 as bs\n",
        "import urllib.request\n",
        "import nltk\n",
        "from bs4 import BeautifulSoup\n",
        "import pandas as pd\n",
        "import string\n",
        "import numpy as np\n",
        "import matplotlib\n",
        "from matplotlib import pyplot as pyp\n",
        "from nltk.corpus import stopwords\n",
        "from nltk.tokenize import word_tokenize\n",
        "from nltk.tokenize import sent_tokenize\n",
        "from nltk import RegexpTokenizer\n",
        "from heapq import nlargest\n",
        "#from textblob import TextBlob\n",
        "#from textblob_fr import PatternTagger, PatternAnalyzer    \n",
        "nltk.download(\"stopwords\")\n",
        "nltk.download('punkt')"
      ],
      "execution_count": null,
      "outputs": [
        {
          "output_type": "stream",
          "text": [
            "[nltk_data] Downloading package stopwords to /root/nltk_data...\n",
            "[nltk_data]   Package stopwords is already up-to-date!\n",
            "[nltk_data] Downloading package punkt to /root/nltk_data...\n",
            "[nltk_data]   Package punkt is already up-to-date!\n"
          ],
          "name": "stdout"
        },
        {
          "output_type": "execute_result",
          "data": {
            "text/plain": [
              "True"
            ]
          },
          "metadata": {
            "tags": []
          },
          "execution_count": 65
        }
      ]
    },
    {
      "cell_type": "code",
      "metadata": {
        "id": "JcXxgJYxYkIu"
      },
      "source": [
        "def Check_Web_Connection(actual_url):\n",
        "    response = get(actual_url)\n",
        "    return response\n",
        "\n",
        "def Get_Web_Soup(response):\n",
        "    html_soup = BeautifulSoup(response.text,\"html.parser\")#Récupère l'ensemble du site web \n",
        "    return html_soup\n",
        "\n",
        "def Get_URL_main_articles(soup):#Récupération des articles mis en avant par le site\n",
        "    body = soup.find(id='main-content')\n",
        "    temporary_url_array = []\n",
        "    main_art = body.find_all('div',class_=\"dm-block dm-block-bloc_1_news\")\n",
        "    for elem in main_art:\n",
        "        url = elem.find('a',href=True)\n",
        "        temporary_url_array.append(url['href'])\n",
        "    url_array = [temporary_url_array[0],temporary_url_array[1],temporary_url_array[2],temporary_url_array[3]]\n",
        "    #Sur CNews, les derniers gros titres correspondent souvent à de la culture et non à des informations sur l'actualité\n",
        "    return(url_array)\n",
        "\n",
        "def Get_URL_sub_articles(soup):#Récupération des autres articles\n",
        "    body = soup.find(id='main-content')\n",
        "    temporary_url_array = []\n",
        "    url_array = []\n",
        "    main_art = body.find_all('div',class_=\"dm-block dm-block-bloc_3_news\")\n",
        "    for elem in main_art:\n",
        "        url = elem.find_all('a',href=True)\n",
        "        for i in url:\n",
        "            temporary_url_array.append(i['href'])\n",
        "    for i in range(15): #Ce nombre d'URL peut être modifié en fonction du nombre d'article qu'on veut résumer\n",
        "        url_array.append(temporary_url_array[i])\n",
        "    return(url_array)\n",
        "\n",
        "def Get_text_from_article(actual):#Récupère l'ensemble des morceaux de texte contenu dans l'article, contient également les textes assosiés aux tweets cités ainsi que les URL que je n'ai pas réussi à retirer \n",
        "    actual_url= main_url + actual[1:]\n",
        "    text = []\n",
        "    response = Check_Web_Connection(actual_url)\n",
        "    soup = Get_Web_Soup(response)#On récupère l'ensemble du site avant d'y appliquer des recherches via soup.find\n",
        "    body= soup.find(id=\"wrapper-publicite\")\n",
        "    titre = body.find(\"h1\",class_=\"article-title\")\n",
        "    if titre != None: #Il y a quelques problèmes avec l'uniformité des pages du site web, le titre est récupéré sur certains articles mais pas sur tous\n",
        "        text.append(titre.text + \".\")\n",
        "        text.append(\" \")\n",
        "    intro = body.find(\"p\", class_=\"dm_article-chapeau\")\n",
        "    text.append(intro.text)\n",
        "    text.append(\" \")\n",
        "    content_1 = body.find_all(\"p\",class_=\"dm_article-paragraph\")\n",
        "    content_2 = body.find_all('p',class_= None)#Certains morceaux de texte ne sont associés à aucune classe\n",
        "    for elem in content_1:\n",
        "        text.append(elem.text)\n",
        "        text.append(' ')\n",
        "    for elem in content_2:\n",
        "        text.append(elem.text)\n",
        "        text.append(' ')\n",
        "    article = ''.join(text)\n",
        "    return article\n",
        "\n",
        "def Print_all_articles():#Affiche tout les articles du site\n",
        "    #ON commence par afficher les grands articles du site\n",
        "    response = Check_Web_Connection(main_url)\n",
        "    soup = Get_Web_Soup(response)\n",
        "    url_prince = Get_URL_main_articles(soup)\n",
        "    url_sub = Get_URL_sub_articles(soup)\n",
        "    print(\"Voici les articles correspondant aux gros titres de Cnews\\n\")\n",
        "    for elem in url_prince:  \n",
        "        print(Get_text_from_article(elem))\n",
        "        print(\"\\n\"*3)\n",
        "    print(\"Voici tout les autres articles proposé par Cnews\")\n",
        "    for elem in url_sub:  \n",
        "        print(Get_text_from_article(elem))\n",
        "        print(\"\\n\"*3)\n",
        "        \n",
        "        \n",
        "def Get_num(article):#Obtiens un dictionnaire indiquant le nombre d'ittération de chaque mot de l'article\n",
        "    num = {}\n",
        "    tokenizer = RegexpTokenizer(r'''\\w'|\\w+|[^\\w\\s]''') #J'utilise RegexpTokenizer pour les mots car en utilisant word_tokenize, j'avais certains problèmes causés par la langue française / les textes dans les tweets\n",
        "    tok_art = tokenizer.tokenize(article)\n",
        "    for word in tok_art:\n",
        "        if word.lower() not in sw:\n",
        "            if word.lower() not in punctuation: \n",
        "                if word in num.keys():\n",
        "                    num[word] = num[word] + 1 #On compte le nombre de fois qu'un mot apparait dans le texte \n",
        "                else:\n",
        "                    num[word] = 1\n",
        "    return num\n",
        "\n",
        "\n",
        "def Get_value_sentence(sentence, num):#Retourne le poids d'une phrase de l'article\n",
        "    tokenizer = RegexpTokenizer(r'''\\w'|\\w+|[^\\w\\s]''')\n",
        "    sent_tok = tokenizer.tokenize(sentence)\n",
        "    count = 0\n",
        "    for word in sent_tok:#On calcule le poids de chaque mots de la phrase grâce au dictionnaire de fréquence qu'on à déterminé précédemment\n",
        "        if word.lower() not in sw:\n",
        "            if word.lower() not in punctuation:\n",
        "                count = count + num[word]\n",
        "    count = count / len(sent_tok)#On effectue une moyenne du poids de chaque mots de façon à ne pas avantager les phrases très longues qui peuvent s'avérer ne pas être essentielles\n",
        "    return count\n",
        "\n",
        "def Get_weight_sentences(num,article):#Retourne le poids de chaque phrase de l'article\n",
        "    tok_art = sent_tokenize(article, language='french')#on tokenize l'articles en phrases de façon à pouvoir évaluer le poids de chaque phrase\n",
        "    weight = {}    \n",
        "    for sentences in tok_art:\n",
        "        weight[sentences] = Get_value_sentence(sentences,num)\n",
        "    max_val = weight.values()\n",
        "    weight[tok_art[0]] = max(max_val)#Permet d'avoir forcement le titre de l'article dans son résumé ce qui rend la compréhension de l'article plus simple\n",
        "    return weight  \n",
        "\n",
        "def Summary_article(article):\n",
        "    num = Get_num(article)\n",
        "    weight = Get_weight_sentences(num,article)\n",
        "    length = int(len(weight)*0.25)#Ce nombre peut être modifié selon la taille de résumé que l'on désire, actuellement, on récupère les 25% des phrases de l'articles qui ont le plus grand poids\n",
        "    summary_array = nlargest(length,weight,key=weight.get)#Renvoie un tableau contenant un pourcentage des phrases ayant le plus grand poids dans l'article\n",
        "    summary= ''.join(summary_array)\n",
        "    return summary\n",
        "\n",
        "def Sentiment_article(article): #Permet d'obtenir le sentiment dégagé d'un article: 0 étant plutot neutre, 1 positif et -1 négatif\n",
        "    tok_art = sent_tokenize(article, language='french')\n",
        "    sentiment = 0\n",
        "    for sentences in tok_art:\n",
        "        sentiment = sentiment + TextBlob(sentences,pos_tagger = PatternTagger(), analyzer = PatternAnalyzer()).sentiment[0]\n",
        "    sentiment = sentiment / len(tok_art)\n",
        "    return sentiment\n",
        "\n",
        "def Print_sentiment(sentiment_array): #Permet d'afficher la polarité de tout les articles\n",
        "    pyp.plot(sentiment_array)\n",
        "    axes = pyp.gca()\n",
        "    axes.set_ylim(-1,1)\n",
        "    pyp.xlabel(\"Positionnement de l'article dans le fil d'actualité\")\n",
        "    pyp.ylabel(\"Polarité de l'article (1 = positif, -1 négatif , 0 neutre)\")\n",
        "    pyp.suptitle(\"Polarité des articles actuels de CNEWS\")\n",
        "\n",
        "def Print_detail_article():\n",
        "    reponse = Check_Web_Connection(main_url)\n",
        "    main_soup = Get_Web_Soup(reponse)\n",
        "    text = Get_text_from_article(test_url)\n",
        "    print(\"L'article \\n\")\n",
        "    print(text + \"\\n\"*4)\n",
        "    num = Get_num(text)\n",
        "    sorted_num = {}\n",
        "    sorted_keys = sorted(num,key=num.get, reverse = True)\n",
        "    for elem in sorted_keys:\n",
        "        sorted_num[elem]=num[elem]\n",
        "    num_list = sorted_num.items()\n",
        "    temp_x,temp_y = zip(*num_list)\n",
        "    x=temp_x[:7]\n",
        "    y= temp_y[:7]\n",
        "    pyp.plot(x,y)\n",
        "    pyp.ylabel(\"Nombre d'ittération\")\n",
        "    pyp.xlabel(\"Mots les plus employés dans l'article\")\n",
        "    pyp.suptitle(\"Répartition des mots dans l'article\")\n",
        "    print(\"\\n\"*4)\n",
        "    print(\"Le poids de chaque phrase de l'article\")\n",
        "    print(Get_weight_sentences(num,text))\n",
        "    print(\"\\n\"*4)\n",
        "    print(\"Le résumé de l'article : \" + Summary_article(text))\n",
        "    print(\"\\n\"*4 + \"La polarité de l'article (-1 négatif, 0 neutre, 1 positif)\")\n",
        "    print(Sentiment_article(text))\n",
        "    \n",
        "def Synthese_sentiment():\n",
        "    reponse = Check_Web_Connection(main_url)\n",
        "    main_soup = Get_Web_Soup(reponse)\n",
        "    url_princ = Get_URL_main_articles(main_soup)\n",
        "    url_sub = Get_URL_sub_articles(main_soup)\n",
        "    sent_array = []\n",
        "    for articles in url_princ:\n",
        "        text = Get_text_from_article(articles)\n",
        "        sent_array.append(Sentiment_article(text))\n",
        "    \n",
        "    for articles in url_sub:\n",
        "        text = Get_text_from_article(articles)\n",
        "        sent_array.append(Sentiment_article(text))\n",
        "    Print_sentiment(sent_array)\n",
        "    \n",
        "def Resume_articles():\n",
        "    reponse = Check_Web_Connection(main_url)\n",
        "    main_soup = Get_Web_Soup(reponse)\n",
        "    url_princ = Get_URL_main_articles(main_soup)\n",
        "    url_sub = Get_URL_sub_articles(main_soup)\n",
        "    sent_array = []\n",
        "    for articles in url_princ:\n",
        "        text = Get_text_from_article(articles)\n",
        "        print(Summary_article(text))\n",
        "        print(\"\\n\")\n",
        "    \n",
        "    \n",
        "    for articles in url_sub:\n",
        "        text = Get_text_from_article(articles)\n",
        "        print(Summary_article(text))\n",
        "        print(\"\\n\")\n",
        "\n",
        "def Fetch_Url(url, array):\n",
        "    tempo_arr = []\n",
        "    response = Check_Web_Connection(url)\n",
        "    soup = Get_Web_Soup(response)\n",
        "    body = soup.find(id='app')\n",
        "    articles = body.find_all('div',class_=\"sc-AxjAm sc-1ttlxdz-0 bTKqUl\")\n",
        "    for elem in articles:\n",
        "        url = elem.find_all('a',href=True)\n",
        "        for i in url:\n",
        "            tempo_arr.append(i['href'])\n",
        "    for i in range(50): # defini le nbr d'article prix\n",
        "        \n",
        "        if i%2 == 0:\n",
        "            array.append(tempo_arr[i])\n"
      ],
      "execution_count": null,
      "outputs": []
    },
    {
      "cell_type": "code",
      "metadata": {
        "colab": {
          "base_uri": "https://localhost:8080/"
        },
        "id": "RA2YuRQDRl44",
        "outputId": "9eee69b6-00a4-4e6b-d0db-1033c00b6698"
      },
      "source": [
        "urls"
      ],
      "execution_count": null,
      "outputs": [
        {
          "output_type": "execute_result",
          "data": {
            "text/plain": [
              "['/tech-medias/medias/la-formule-1-a-reconquis-les-telespectateurs-francais-1301585',\n",
              " '/tech-medias/hightech/tencent-se-prepare-au-tour-de-vis-de-pekin-apres-une-excellente-annee-2020-1301537',\n",
              " '/tech-medias/hightech/leurope-doit-investir-300-milliards-deuros-dans-ses-reseaux-telecoms-selon-les-operateurs-1301470',\n",
              " '/tech-medias/hightech/puces-une-penurie-qui-menace-les-pme-de-tous-les-secteurs-de-leconomie-1301259',\n",
              " '/tech-medias/medias/netflix-ne-veut-pas-seulement-financer-lexception-culturelle-mais-aussi-en-beneficier-1301258',\n",
              " '/tech-medias/hightech/pourquoi-intel-entre-en-co-opetition-avec-tsmc-1301232',\n",
              " '/tech-medias/hightech/reseau-cuivre-dorange-larcep-denonce-un-calvaire-dans-les-campagnes-1301225',\n",
              " '/tech-medias/hightech/en-plein-boom-la-messagerie-chiffree-telegram-leve-1-milliard-de-dollars-de-dettes-1301130',\n",
              " '/tech-medias/hightech/amazon-accelere-dans-la-production-de-jeux-video-et-recrute-chez-ubisoft-1301108',\n",
              " '/weekend/business-story/semi-conducteurs-tsmc-ce-geant-taiwanais-qui-peut-paralyser-le-monde-1301043',\n",
              " '/tech-medias/hightech/intel-investit-dans-la-fabrication-de-semi-conducteurs-aux-etats-unis-1300934',\n",
              " '/tech-medias/hightech/les-entreprises-point-noir-du-marche-des-telecoms-en-france-1300867',\n",
              " '/tech-medias/medias/les-audiences-des-medias-americains-plombes-par-le-depart-de-trump-1300804',\n",
              " '/tech-medias/hightech/free-se-lance-a-lassaut-du-marche-des-telecoms-dentreprise-1300751',\n",
              " '/tech-medias/hightech/cinema-cineworld-va-rouvrir-ses-salles-aux-etats-unis-et-au-royaume-uni-1300731',\n",
              " '/tech-medias/hightech/microsoft-lorgnerait-discord-pour-un-rachat-a-10-milliards-de-dollars-dans-le-jeu-video-1300720',\n",
              " '/tech-medias/hightech/jack-dorsey-vend-son-tout-premier-tweet-pour-29-millions-de-dollars-1300716',\n",
              " '/tech-medias/hightech/reporters-sans-frontieres-porte-plainte-contre-facebook-pour-pratiques-commerciales-trompeuses-1300650',\n",
              " '/tech-medias/hightech/au-coeur-de-lindustrie-israelienne-de-la-cybersurveillance-1300576',\n",
              " '/tech-medias/hightech/pour-se-relancer-sur-les-smartphones-nintendo-sassocie-a-niantic-dans-un-nouveau-jeu-de-realite-augmentee-1300572',\n",
              " '/tech-medias/hightech/facebook-a-purge-plus-dun-milliard-de-ses-comptes-fin-2020-1300534',\n",
              " '/tech-medias/medias/amazon-passe-a-la-vitesse-superieure-dans-la-video-en-france-1300525',\n",
              " '/tech-medias/hightech/chateau-le-sartre-lincubateur-au-milieu-des-vignes-1300517',\n",
              " '/tech-medias/hightech/fibre-optique-derniere-ligne-droite-pour-la-vente-des-reseaux-de-covage-1300480',\n",
              " '/tech-medias/hightech/jeux-video-bytedance-tiktok-investit-4-milliards-pour-concurrencer-tencent-wechat-1300463',\n",
              " '/tech-medias/medias/revues-scientifiques-comment-les-grands-editeurs-ont-su-resister-a-leurs-disrupteurs-1300445',\n",
              " '/tech-medias/medias/ces-revues-scientifiques-qui-cherchent-a-tourner-la-page-robert-maxwell-1300430',\n",
              " '/tech-medias/hightech/le-vignoble-bordelais-a-desormais-soif-de-start-up-1300419',\n",
              " '/tech-medias/medias/marina-narishkin-animee-a-dessein-1300305',\n",
              " '/tech-medias/hightech/edtech-lalilo-rachete-par-le-groupe-americain-renaissance-1300293',\n",
              " '/tech-medias/medias/whatsapp-messenger-instagram-les-services-de-facebook-en-panne-1300212',\n",
              " '/tech-medias/hightech/amazon-accelere-dans-la-diffusion-de-sport-en-direct-1300154',\n",
              " '/tech-medias/medias/comment-la-nfl-est-devenue-la-ligue-sportive-la-plus-lucrative-au-monde-1300103',\n",
              " '/tech-medias/medias/la-tele-locale-viagrandparis-rachetee-par-secom-et-le-figaro-1300026',\n",
              " '/tech-medias/hightech/facebook-planche-sur-un-instagram-junior-pour-les-moins-de-13-ans-1299978',\n",
              " '/tech-medias/hightech/profession-balayeur-de-lespace-1299957',\n",
              " '/tech-medias/medias/droits-tv-un-deal-historique-a-plus-de-100-milliards-de-dollars-pour-la-nfl-1299903',\n",
              " '/tech-medias/hightech/google-investit-7-milliards-de-dollars-en-bureaux-et-centres-de-donnees-1299837',\n",
              " '/tech-medias/hightech/netflix-devoile-limpact-environnemental-dune-heure-de-streaming-1299803',\n",
              " '/tech-medias/hightech/paris-derniere-capitale-mondiale-a-basculer-en-5g-1299733',\n",
              " '/tech-medias/hightech/spotify-leve-le-voile-sur-la-remuneration-des-artistes-1299635',\n",
              " '/tech-medias/hightech/15000-serveurs-francais-vulnerables-au-hack-contre-microsoft-exchange-1299628',\n",
              " '/tech-medias/medias/le-csa-inflige-200000-euros-damende-a-cnews-pour-les-propos-de-zemmour-sur-les-migrants-mineurs-1299587',\n",
              " '/tech-medias/hightech/vodafone-realise-la-plus-grosse-ipo-de-lannee-en-europe-avec-ses-tours-telecoms-1299549',\n",
              " '/tech-medias/medias/amc-le-roi-des-salles-de-cinema-est-pret-a-renaitre-de-ses-cendres-1299460',\n",
              " '/tech-medias/hightech/5g-a-paris-orange-et-sfr-allument-leurs-reseaux-ce-vendredi-1299449',\n",
              " '/tech-medias/hightech/albums-le-nouveau-reseau-social-lance-par-taig-khris-1299405',\n",
              " '/tech-medias/hightech/ovh-reportage-a-strasbourg-une-semaine-apres-lincendie-1299308',\n",
              " '/tech-medias/hightech/spotify-leve-le-voile-sur-la-remuneration-des-artistes-1299635',\n",
              " '/tech-medias/hightech/paris-derniere-capitale-mondiale-a-basculer-en-5g-1299733',\n",
              " '/tech-medias/medias/decouvrez-le-nouveau-site-web-des-echos-236569',\n",
              " '/tech-medias/dossiers/0301383347615/tf1-canal-orange-la-guerre-des-ecrans-130994',\n",
              " '/tech-medias/hightech/apple-et-lincroyable-succes-de-liphone-145164',\n",
              " '/monde/europe/la-repartition-des-doses-de-vaccins-fait-debat-en-europe-1301558',\n",
              " '/monde/enjeux-internationaux/en-direct-le-25-mars-covid-le-point-sur-la-situation-en-france-et-dans-le-monde-1301332',\n",
              " '/monde/europe/covid-la-hongrie-affiche-le-record-mondial-du-taux-de-mortalite-1301567',\n",
              " '/tech-medias/medias/les-dix-femmes-les-plus-puissantes-du-monde-selon-forbes-1272222',\n",
              " '/tech-medias/medias/les-derniers-laureats-du-prix-goncourt-1269550',\n",
              " '/tech-medias/medias/le-top-10-des-personnalites-les-mieux-payees-1209313']"
            ]
          },
          "metadata": {
            "tags": []
          },
          "execution_count": 135
        }
      ]
    },
    {
      "cell_type": "code",
      "metadata": {
        "id": "PJIZTEuXRC81"
      },
      "source": [
        "main_url = 'https://www.lesechos.fr/tech-medias/hightech/reseau-cuivre-dorange-larcep-denonce-un-calvaire-dans-les-campagnes-1301225'\n",
        "response = get(main_url)\n",
        "html_soup = BeautifulSoup(response.text,'html.parser')"
      ],
      "execution_count": null,
      "outputs": []
    },
    {
      "cell_type": "code",
      "metadata": {
        "colab": {
          "base_uri": "https://localhost:8080/"
        },
        "id": "MGS3rHSY5-76",
        "outputId": "d2cf3448-f154-428a-9619-f180a41453ee"
      },
      "source": [
        "url_array = []\n",
        "pol = 'https://www.lesechos.fr/politique-societe'\n",
        "eco=\"https://www.lesechos.fr/economie-france\"\n",
        "monde=\"https://www.lesechos.fr/monde\"\n",
        "tech=\"https://www.lesechos.fr/tech-medias\"\n",
        "entreprise=\"https://www.lesechos.fr/industrie-services\"\n",
        "bourse=\"https://www.lesechos.fr/bourse\"\n",
        "finance=\"https://www.lesechos.fr/finance-marches\"\n",
        "region=\"https://www.lesechos.fr/pme-regions\"\n",
        "patrimoine=\"https://www.lesechos.fr/patrimoine\"\n",
        "url_array.append(Fetch_Url(pol,url_array))\n",
        "url_array.append(Fetch_Url(eco,url_array))\n",
        "url_array.append(Fetch_Url(monde,url_array))\n",
        "url_array.append(Fetch_Url(tech,url_array))\n",
        "url_array.append(Fetch_Url(entreprise,url_array))\n",
        "url_array.append(Fetch_Url(bourse,url_array))\n",
        "url_array.append(Fetch_Url(finance,url_array))\n",
        "url_array.append(Fetch_Url(region,url_array))\n",
        "url_array.append(Fetch_Url(patrimoine,url_array))\n",
        "\n",
        "print(url_array)"
      ],
      "execution_count": null,
      "outputs": [
        {
          "output_type": "stream",
          "text": [
            "['/politique-societe/politique/islamisme-la-majorite-a-loffensive-contre-les-ecologistes-1301625', '/politique-societe/societe/ile-de-france-lidee-davancer-les-vacances-scolaires-fait-debat-1301612', '/politique-societe/politique/sondage-exclusif-elections-regionales-en-marche-face-au-risque-du-toboggan-1301557', '/politique-societe/societe/covid-la-france-joue-sur-la-crise-pour-attirer-les-etudiants-etrangers-1301499', '/politique-societe/societe/loi-climat-les-commercants-defendent-les-ecrans-numeriques-dans-leurs-vitrines-1301466', '/politique-societe/politique/regionales-dans-les-hauts-de-france-la-partie-delicate-de-xavier-bertrand-face-a-une-gauche-unie-et-un-rn-tres-implante-1301448', '/politique-societe/emmanuel-macron-president/macron-comment-sauver-le-marqueur-europeen-1301373', '/politique-societe/gouvernement/covid-lunion-europeenne-a-manque-dambition-sur-les-vaccins-estime-macron-1301302', '/politique-societe/emmanuel-macron-president/covid-la-confiance-envers-lexecutif-au-plus-bas-1301272', '/politique-societe/gouvernement/covid-face-a-lacceleration-du-virus-lexecutif-contraint-detendre-les-restrictions-1301271', '/politique-societe/politique/xavier-bertrand-tente-de-monter-en-puissance-en-se-declarant-candidat-a-la-presidentielle-1301249', '/politique-societe/societe/covid-la-pression-monte-pour-dedoubler-les-classes-dans-les-colleges-1301227', '/politique-societe/regions/covid-quels-sont-les-departements-ou-la-situation-se-degrade-le-plus-1301201', '/politique-societe/societe/covid-reserver-le-vaccin-astrazeneca-aux-plus-de-55-ans-cree-la-confusion-critique-lacademie-de-medecine-1301138', '/politique-societe/gouvernement/vaccination-les-risques-des-metiers-1301017', '/politique-societe/emmanuel-macron-president/covid-19-emmanuel-macron-oblige-de-montrer-au-front-sur-la-vaccination-1300868', '/economie-france/social/covid-emmanuel-macron-veut-elargir-et-accelerer-la-campagne-de-vaccination-1300859', '/economie-france/social/covid-des-plans-daction-dans-les-entreprises-pour-renforcer-le-teletravail-1300818', '/economie-france/social/exclusif-covid-lile-de-france-va-deprogrammer-80-des-soins-pour-ouvrir-des-reanimations-1300748', '/politique-societe/emmanuel-macron-president/covid-la-vaccination-ouverte-aux-70-75-ans-sans-comorbidite-des-samedi-1300718', '/economie-france/social/covid-tour-de-vis-sur-les-restaurants-dentreprise-1300685', '/politique-societe/politique/edouard-philippe-loyal-et-libre-en-meme-temps-1300626', '/politique-societe/politique/regionales-le-demarrage-en-douceur-des-candidats-de-la-majorite-1300605', '/politique-societe/societe/tensions-sur-la-reforme-de-lepreuve-de-langues-dans-les-grandes-ecoles-de-management-1300597', '/politique-societe/politique/les-elus-locaux-montent-aux-creneau-contre-un-report-des-regionales-1300389', None, '/economie-france/social/assurance-chomage-une-premiere-evaluation-de-limpact-de-la-reforme-1301617', '/politique-societe/societe/loi-climat-les-commercants-defendent-les-ecrans-numeriques-dans-leurs-vitrines-1301466', '/economie-france/conjoncture/covid-les-patrons-francais-avaient-retrouve-le-moral-avant-les-nouvelles-restrictions-1301411', '/economie-france/social/negociations-patronat-syndicats-la-cgt-opte-pour-la-chaise-vide-1301336', '/economie-france/conjoncture/covid-regain-doptimisme-chez-les-industriels-francais-et-europeens-1301243', '/economie-france/social/le-renflouement-de-la-securite-sociale-juge-prioritaire-par-rapport-a-la-dette-sociale-1301203', '/economie-france/conjoncture/la-france-championne-du-controle-des-investisseurs-etrangers-en-europe-1301210', '/economie-france/social/patronat-et-syndicats-rouvrent-le-chantier-de-la-formation-professionnelle-1301134', '/economie-france/social/quel-avenir-pour-la-dette-covid-1301077', '/economie-france/social/protection-sociale-des-independants-ce-que-demande-le-patronat-1301009', '/economie-france/budget-fiscalite/dette-covid-le-rapport-arthuis-accueilli-tiedement-par-les-parlementaires-1300974', '/economie-france/social/covid-le-durcissement-de-lassurance-chomage-reste-hypothetique-1300946', '/economie-france/social/covid-emmanuel-macron-veut-elargir-et-accelerer-la-campagne-de-vaccination-1300859', '/economie-france/social/covid-des-plans-daction-dans-les-entreprises-pour-renforcer-le-teletravail-1300818', '/economie-france/social/covid-qui-peut-se-faire-vacciner-en-france-et-avec-quel-vaccin-1300796', '/economie-france/social/exclusif-covid-lile-de-france-va-deprogrammer-80-des-soins-pour-ouvrir-des-reanimations-1300748', '/economie-france/social/covid-tour-de-vis-sur-les-restaurants-dentreprise-1300685', '/economie-france/budget-fiscalite/comment-bruno-le-maire-veut-rembourser-la-dette-covid-1300566', '/economie-france/budget-fiscalite/surcroit-depargne-le-maire-pret-a-un-geste-pour-les-petites-donations-1300437', '/economie-france/social/covid-lancement-laborieux-des-elections-syndicales-dans-les-tpe-1300387', '/economie-france/social/exclusif-lexecutif-mise-sur-les-vaccinodromes-pour-accelerer-la-campagne-de-vaccination-1300239', '/economie-france/social/teletravail-lexecutif-pousse-les-prefets-a-mettre-les-entreprises-sous-pression-1300235', '/economie-france/social/covid-astrazeneca-ne-tiendra-plus-un-role-central-dans-la-campagne-de-vaccination-1300202', '/economie-france/budget-fiscalite/covid-bercy-muscle-le-dispositif-daides-et-garde-lespoir-dune-croissance-de-6-en-2021-1300196', '/economie-france/social/covid-le-vaccin-astrazeneca-est-desormais-reserve-aux-plus-de-55-ans-1299959', None, '/monde/afrique-moyen-orient/cinq-points-a-connaitre-sur-le-canal-de-suez-1301611', '/monde/europe/covid-la-hongrie-affiche-le-record-mondial-du-taux-de-mortalite-1301567', '/monde/europe/la-repartition-des-doses-de-vaccins-fait-debat-en-europe-1301558', '/monde/europe/vaccins-pourquoi-londres-cherche-a-calmer-le-jeu-apres-le-coup-de-pression-de-bruxelles-1301483', '/monde/europe/covid-les-finances-du-vatican-frappees-de-plein-fouet-par-la-crise-1301482', '/monde/etats-unis/la-virginie-abolit-la-peine-de-mort-une-premiere-pour-un-etat-du-sud-americain-1301424', '/monde/ameriques/covid-le-bresil-a-la-derive-1301401', '/monde/europe/covid-campagne-de-vaccination-brouillonne-en-italie-1301402', '/monde/europe/espagne-aznar-et-rajoy-nient-lexistence-dune-caisse-noire-du-parti-populaire-1301394', '/monde/europe/les-defis-de-la-vaccination-de-masse-des-europeens-1301381', '/monde/enjeux-internationaux/en-direct-le-25-mars-covid-le-point-sur-la-situation-en-france-et-dans-le-monde-1301332', '/monde/asie-pacifique/pyongyang-teste-ladministration-biden-avec-des-tirs-de-missiles-balistiques-1301323', '/monde/enjeux-internationaux/covid-la-reprise-economique-sannonce-tres-inegale-selon-les-pays-1301305', '/idees-debats/editos-analyses/vaccins-leurope-durcit-enfin-son-jeu-1301266', '/monde/europe/les-europeens-tentent-de-reprendre-la-main-pour-accroitre-les-livraisons-de-vaccins-1301276', '/monde/afrique-moyen-orient/israel-lintrouvable-coalition-parlementaire-1301239', '/monde/europe/la-belgique-se-reconfine-pour-un-mois-1301200', '/monde/afrique-moyen-orient/la-turquie-veut-calmer-le-jeu-avec-leurope-sans-beaucoup-dactes-concrets-1301197', '/monde/europe/confinement-face-aux-critiques-angela-merkel-fait-machine-arriere-1301186', '/monde/etats-unis/les-etats-unis-manquent-de-maisons-a-vendre-1301178', '/monde/europe/exportations-de-vaccin-bruxelles-exige-la-reciprocite-et-la-proportionnalite-1301146', '/monde/europe/bruxelles-lorgne-sur-29-millions-de-doses-dastrazeneca-decouvertes-en-italie-1301143', '/monde/afrique-moyen-orient/grand-pas-en-avant-de-la-transition-en-libye-1301110', '/monde/enjeux-internationaux/le-fmi-envisage-une-augmentation-de-capital-de-650-milliards-de-dollars-1301073', '/monde/enjeux-internationaux/comment-leurope-veut-lutter-contre-les-fuites-de-carbone-1301025', None, '/tech-medias/medias/jeune-afrique-investit-8-millions-deuros-pour-atteindre-100000-abonnes-1301631', '/tech-medias/medias/la-formule-1-a-reconquis-les-telespectateurs-francais-1301585', '/tech-medias/hightech/tencent-se-prepare-au-tour-de-vis-de-pekin-apres-une-excellente-annee-2020-1301537', '/tech-medias/hightech/leurope-doit-investir-300-milliards-deuros-dans-ses-reseaux-telecoms-selon-les-operateurs-1301470', '/tech-medias/hightech/puces-une-penurie-qui-menace-les-pme-de-tous-les-secteurs-de-leconomie-1301259', '/tech-medias/medias/netflix-ne-veut-pas-seulement-financer-lexception-culturelle-mais-aussi-en-beneficier-1301258', '/tech-medias/hightech/pourquoi-intel-entre-en-co-opetition-avec-tsmc-1301232', '/tech-medias/hightech/reseau-cuivre-dorange-larcep-denonce-un-calvaire-dans-les-campagnes-1301225', '/tech-medias/hightech/en-plein-boom-la-messagerie-chiffree-telegram-leve-1-milliard-de-dollars-de-dettes-1301130', '/tech-medias/hightech/amazon-accelere-dans-la-production-de-jeux-video-et-recrute-chez-ubisoft-1301108', '/weekend/business-story/semi-conducteurs-tsmc-ce-geant-taiwanais-qui-peut-paralyser-le-monde-1301043', '/tech-medias/hightech/intel-investit-dans-la-fabrication-de-semi-conducteurs-aux-etats-unis-1300934', '/tech-medias/hightech/les-entreprises-point-noir-du-marche-des-telecoms-en-france-1300867', '/tech-medias/medias/les-audiences-des-medias-americains-plombes-par-le-depart-de-trump-1300804', '/tech-medias/hightech/free-se-lance-a-lassaut-du-marche-des-telecoms-dentreprise-1300751', '/tech-medias/hightech/cinema-cineworld-va-rouvrir-ses-salles-aux-etats-unis-et-au-royaume-uni-1300731', '/tech-medias/hightech/microsoft-lorgnerait-discord-pour-un-rachat-a-10-milliards-de-dollars-dans-le-jeu-video-1300720', '/tech-medias/hightech/jack-dorsey-vend-son-tout-premier-tweet-pour-29-millions-de-dollars-1300716', '/tech-medias/hightech/reporters-sans-frontieres-porte-plainte-contre-facebook-pour-pratiques-commerciales-trompeuses-1300650', '/tech-medias/hightech/au-coeur-de-lindustrie-israelienne-de-la-cybersurveillance-1300576', '/tech-medias/hightech/pour-se-relancer-sur-les-smartphones-nintendo-sassocie-a-niantic-dans-un-nouveau-jeu-de-realite-augmentee-1300572', '/tech-medias/hightech/facebook-a-purge-plus-dun-milliard-de-ses-comptes-fin-2020-1300534', '/tech-medias/medias/amazon-passe-a-la-vitesse-superieure-dans-la-video-en-france-1300525', '/tech-medias/hightech/chateau-le-sartre-lincubateur-au-milieu-des-vignes-1300517', '/tech-medias/hightech/fibre-optique-derniere-ligne-droite-pour-la-vente-des-reseaux-de-covage-1300480', None, '/industrie-services/conso-distribution/vin-en-cubi-spiritueux-et-prosecco-ont-profite-du-confinement-1301614', '/industrie-services/conso-distribution/gorillas-la-start-up-de-livraison-de-produits-depicerie-qui-affole-les-compteurs-1301609', '/industrie-services/air-defense/vive-les-cooperatives-1301591', '/industrie-services/tourisme-transport/la-chaine-dapprovisionnement-mondiale-perturbee-par-le-blocage-du-canal-de-suez-1301588', '/industrie-services/conso-distribution/royaume-uni-des-investisseurs-prennent-leurs-distances-avec-deliveroo-1301581', '/industrie-services/tourisme-transport/la-deutsche-bahn-frappee-mais-pas-coulee-par-la-crise-sanitaire-1301576', '/industrie-services/conso-distribution/lustucru-pret-a-racheter-les-panzani-pour-creer-un-champion-francais-des-pates-1301573', '/industrie-services/tourisme-transport/confinement-la-sncf-taille-dans-ses-frequences-la-ratp-sinterroge-1301560', '/industrie-services/conso-distribution/covid-des-entreprises-americaines-recompensent-les-employes-qui-se-font-vacciner-1301517', '/industrie-services/conso-distribution/philips-quitte-pour-de-bon-la-case-conglomerat-en-cedant-son-petit-electromenager-1301516', '/industrie-services/conso-distribution/ouighours-la-chine-impose-aux-marques-etrangeres-de-choisir-leur-camp-1301477', '/industrie-services/tourisme-transport/canal-de-suez-le-sauvetage-extreme-du-cargo-echoue-1301474', '/industrie-services/conso-distribution/le-modele-roche-bobois-a-traverse-sans-encombre-la-crise-sanitaire-1301465', '/industrie-services/services-conseils/covid-le-japon-donne-sans-enthousiasme-le-coup-denvoi-au-relais-de-la-flamme-olympique-1301439', '/industrie-services/services-conseils/le-philanthro-lab-la-station-f-du-mecenat-1301382', '/industrie-services/pharmacie-sante/covid-astrazeneca-avance-finalement-une-efficacite-de-76-de-son-vaccin-1301376', '/industrie-services/conso-distribution/fraude-alimentaire-une-ong-denonce-une-pratique-savamment-occultee-1301370', '/industrie-services/mode-luxe/le-luxe-et-la-beaute-trustent-5-des-10-marques-francaises-les-plus-valorisees-1301318', '/industrie-services/conso-distribution/les-nouveaux-marchands-damazon-1301312', '/industrie-services/energie-environnement/nucleaire-a-bure-la-roche-est-mise-a-lepreuve-1301264', '/industrie-services/energie-environnement/nucleaire-paris-plaide-pour-un-report-des-regles-de-la-finance-verte-1301263', '/industrie-services/tourisme-transport/londres-menace-les-anglais-damende-en-cas-de-vacances-a-letranger-1301256', '/industrie-services/conso-distribution/des-ex-dirigeants-de-mcdonalds-soupconnes-de-blanchiment-de-fraude-fiscale-1301231', '/industrie-services/mode-luxe/deux-stars-de-cinema-chinoises-renoncent-a-leur-partenariat-avec-h-m-1301228', '/industrie-services/conso-distribution/avec-lessor-du-commerce-en-ligne-des-litiges-toujours-plus-nombreux-1301226', None, 'https://investir.lesechos.fr/marches/actualites/une-fois-de-plus-le-cac-40-termine-in-extremis-dans-le-vert-1955029.php', 'https://investir.lesechos.fr/actions/actualites/abionyx-pharma-a-trouve-ses-partenaires-pour-produire-son-bon-cholesterol-qui-aide-a-retarder-la-dialyse-1955019.php', 'https://investir.lesechos.fr/marches/actualites/le-cac-40-tire-vers-le-bas-par-wall-street-et-le-petrole-powell-seme-le-trouble-1955020.php', 'https://investir.lesechos.fr/marches/actualites/le-cac-40-entraine-par-le-recul-de-wall-street-powell-jette-un-froid-1955010.php', 'https://investir.lesechos.fr/marches/actualites/le-cac-40-s-enfonce-avec-les-cours-du-petrole-et-les-contrats-sur-indices-americains-1955004.php', 'https://investir.lesechos.fr/marches/actualites/le-cac-40-confine-dans-une-marge-etroite-par-les-craintes-sanitaires-1954980.php', 'https://investir.lesechos.fr/placements/actualites/assurance-vie-et-covid-des-fausses-informations-inquietent-les-epargnants-1954964.php', 'https://investir.lesechos.fr/marches/actualites/le-cac-40-reste-confine-par-les-craintes-liees-a-la-pandemie-1954960.php', 'https://investir.lesechos.fr/marches/actualites/les-craintes-sanitaires-demeurent-le-cac-40-poursuit-son-repli-1954952.php', 'https://investir.lesechos.fr/marches/morning-meeting/l-epidemie-de-coronavirus-continue-de-dicter-la-tendance-a-la-bourse-de-paris-1954946.php', 'https://investir.lesechos.fr/actions/actualites/coronavirus-le-vaccin-d-astrazeneca-efficace-a-76-selon-les-resultats-actualises-d-un-essai-clinique-mene-aux-usa-1954938.php', 'https://investir.lesechos.fr/marches/a-ne-pas-manquer-demain/la-crise-sanitaire-au-menu-du-sommet-de-l-ue-1954874.php', 'https://investir.lesechos.fr/marches/actualites/le-cac-40-evite-une-nouvelle-seance-de-baisse-grace-aux-indices-pmi-et-au-revirement-d-angela-merkel-1954912.php', 'https://investir.lesechos.fr/marches/actualites/le-revirement-de-merkel-sur-le-confinement-permet-au-cac-40-de-reduire-ses-pertes-1954895.php', 'https://investir.lesechos.fr/marches/actualites/merkel-annule-le-confinement-de-paques-le-cac-40-reduit-ses-pertes-1954884.php', 'https://investir.lesechos.fr/marches/actualites/le-cac-40-reste-freine-par-les-craintes-sanitaires-malgre-le-rebond-de-l-activite-en-zone-euro-1954875.php', 'https://investir.lesechos.fr/marches/actualites/le-cac-40-tiraille-entre-sanitaire-et-rebond-du-secteur-prive-en-zone-euro-1954866.php', 'https://investir.lesechos.fr/marches/actualites/le-cac-40-reduit-ses-pertes-grace-a-l-acceleration-de-l-activite-dans-le-secteur-prive-en-europe-1954847.php', 'https://investir.lesechos.fr/marches/actualites/france-la-contraction-de-l-activite-du-secteur-prive-ralentit-en-mars-1954838.php', 'https://investir.lesechos.fr/marches/actualites/le-cac-40-en-mode-risk-off-dans-l-attente-des-indices-d-activite-pmi-markit-1954831.php', 'https://investir.lesechos.fr/marches/morning-meeting/la-crainte-d-une-troisieme-vague-freine-la-prise-de-risque-en-bourse-1954824.php', 'https://investir.lesechos.fr/actions/actualites/carrefour-se-renforce-au-bresil-avec-le-rachat-de-grupo-big-1954814.php', 'https://investir.lesechos.fr/actions/actualites/s-p-releve-la-perspective-de-la-note-bb-de-fnac-darty-a-stable-1954727.php', 'https://investir.lesechos.fr/marches/a-ne-pas-manquer-demain/le-moral-certains-directeurs-des-achats-l-ont-d-autres-non-1954670.php', 'https://investir.lesechos.fr/marches/actualites/l-ombre-de-la-crise-sanitaire-plane-toujours-au-dessus-de-la-bourse-1954721.php', None, '/finance-marches/banque-assurances/santander-reorganise-son-reseau-au-royaume-uni-et-supprime-600-emplois-1301610', '/finance-marches/marches-financiers/cinq-cles-pour-comprendre-les-avantages-et-inconvenients-dun-spac-1301598', '/finance-marches/marches-financiers/360-capital-lance-le-premier-spac-dedie-a-la-tech-sur-euronext-1301599', '/finance-marches/marches-financiers/danone-la-demission-de-lentreprise-a-mission-1301578', '/finance-marches/marches-financiers/spac-la-nouvelle-obsession-de-la-french-tech-1301577', '/finance-marches/banque-assurances/la-monnaie-de-paris-veut-surfer-sur-lepargne-des-francais-1301563', '/finance-marches/marches-financiers/les-investisseurs-occidentaux-retrouvent-de-lappetit-pour-le-risque-russe-1301555', '/finance-marches/banque-assurances/patrick-cohen-nouveau-patron-du-navire-amiral-francais-de-lassureur-axa-1301600', '/finance-marches/banque-assurances/bpifrance-a-termine-lannee-2020-dans-le-rouge-1301485', '/finance-marches/gestion-actifs/blackrock-au-coeur-dun-echange-muscle-au-senat-americain-1301472', '/finance-marches/marches-financiers/le-gendarme-boursier-met-les-particuliers-en-garde-contre-les-prestataires-financiers-chypriotes-1301467', '/finance-marches/marches-financiers/la-devise-nord-coreenne-rattrapee-par-la-catastrophe-economique-que-traverse-le-pays-1301446', '/finance-marches/banque-assurances/lassureur-axa-renouvelle-en-profondeur-son-etat-major-et-change-de-patron-france-1301427', '/finance-marches/gestion-actifs/paris-veut-devenir-le-premier-centre-mondial-de-la-finance-a-impact-1301320', '/finance-marches/marches-financiers/la-bourse-de-londres-attire-a-nouveau-les-candidats-a-la-cotation-1301311', '/finance-marches/banque-assurances/bras-de-fer-entre-credit-agricole-et-des-actionnaires-de-litalien-creval-1301559', '/finance-marches/banque-assurances/proces-ubs-la-banque-fixee-sur-son-sort-le-27-septembre-1301285', '/finance-marches/banque-assurances/covea-attaque-au-penal-le-patron-de-scor-denis-kessler-1301233', '/finance-marches/banque-assurances/le-marche-des-professionnels-a-penalise-lassurance-francaise-en-2020-1301215', '/finance-marches/marches-financiers/covid-alerte-sur-les-prix-agricoles-1301213', '/finance-marches/banque-assurances/financements-des-energies-fossiles-bnp-paribas-repond-aux-critiques-1301262', '/finance-marches/marches-financiers/bourse-les-mirages-de-la-nouvelle-ere-de-la-tech-1301211', '/finance-marches/banque-assurances/edmond-de-rothschild-mise-sur-les-fonds-illiquides-1301179', '/finance-marches/marches-financiers/cette-nouvelle-generation-dinvestisseurs-en-quete-dadrenaline-1301148', '/finance-marches/marches-financiers/le-royaume-uni-veut-contraindre-les-administrateurs-a-rendre-leurs-bonus-en-cas-de-faillite-1301107', None, '/pme-regions/ile-de-france/sevran-le-projet-terre-deau-change-de-visage-1301639', '/pme-regions/ile-de-france/letat-veut-implanter-de-lactivite-economique-dans-les-quartiers-de-la-seine-saint-denis-1301627', '/pme-regions/ile-de-france/yvelines-nouvelle-victoire-juridique-pour-lagriculteur-bio-a-adainville-1301594', '/pme-regions/ile-de-france/nanterre-icade-remet-les-cles-dorigine-le-nouveau-siege-de-technip-energies-1301590', '/pme-regions/ile-de-france/essonne-saint-pierre-du-perray-doit-faire-face-a-une-ardoise-de-700000-euros-1301580', '/pme-regions/ile-de-france/essonne-election-municipale-en-mai-a-ris-orangis-1301572', '/pme-regions/hauts-de-france/evenementiel-alive-groupe-sarme-en-attendant-la-reprise-1301564', '/pme-regions/auvergne-rhone-alpes/kem-one-change-sa-deuxieme-electrolyse-pour-100-millions-deuros-1301543', '/pme-regions/occitanie/systemes-electroniques-la-penurie-de-puces-met-actia-sous-pression-1301542', '/pme-regions/actualite-pme/cannabusiness-les-boutiques-de-cbd-fleurissent-avant-une-possible-legalisation-1301541', '/pme-regions/bretagne/le-port-de-peche-de-lorient-sollicite-par-le-sultanat-doman-1301520', '/pme-regions/occitanie/royal-canin-veut-agir-contre-les-abandons-danimaux-1301515', '/pme-regions/occitanie/jean-romain-brunet-nomme-directeur-general-de-la-regie-autonome-de-port-camargue-1301512', '/pme-regions/occitanie/lopen-tourisme-lab-devoile-ses-14-start-up-laureates-1301506', '/pme-regions/grand-est/mosquee-de-strasbourg-la-prefete-du-grand-est-monte-a-son-tour-au-creneau-1301504', '/pme-regions/ile-de-france/hauts-de-seine-environnement-92-plante-des-arbres-pour-verdir-le-departement-1301447', '/pme-regions/ile-de-france/jo-2024-champigny-sur-marne-prepare-un-retour-a-la-baignade-dans-la-marne-1301429', '/pme-regions/hauts-de-france/en-pleine-crise-laeronautique-picarde-fonde-des-espoirs-sur-le-ferroviaire-1301404', '/pme-regions/provence-alpes-cote-dazur/six-tentatives-pour-ragaillardir-lagriculture-1301403', '/pme-regions/auvergne-rhone-alpes/le-traiteur-pierre-martinet-augmente-ses-capacites-de-production-et-de-stockage-1301400', '/pme-regions/occitanie/les-domaines-pierre-chavin-accelerent-dans-les-vins-sans-alcool-1301397', '/pme-regions/pays-de-la-loire/record-daudience-pour-le-vendee-globe-1301387', '/pme-regions/bretagne/morbihan-lauzach-labellisee-territoire-bio-engage-1301385', '/pme-regions/auvergne-rhone-alpes/a-lyon-le-college-truffaut-en-pleine-cure-de-jouvence-1301365', '/pme-regions/auvergne-rhone-alpes/lyon-la-vallee-de-la-chimie-poursuit-sa-mue-ecologique-avec-les-laureats-des-ateliers-cleantech-1301364', None, '/patrimoine/placement/investir-sur-les-fonds-solidaires-et-de-partage-1301469', '/patrimoine/impots/bailleurs-soutenez-vos-locataires-et-beneficiez-dune-economie-fiscale-1301455', '/patrimoine/placement/placements-durables-sy-retrouver-dans-la-foire-aux-labels-1301449', '/patrimoine/placement/placements-durables-la-ruee-vers-lor-bleu-1301351', '/patrimoine/impots/declaration-dimpots-2021-pea-pea-pme-et-pea-jeune-quels-sont-les-gains-imposables-1301122', '/patrimoine/immobilier/immobilier-le-moral-des-francais-remonte-1301114', '/patrimoine/placement/donner-du-sens-a-ses-investissements-privilegier-le-climat-1301085', '/patrimoine/investissements-plaisir/nft-quelle-place-pour-les-creations-virtuelles-dans-le-marche-de-lart-1301070', '/patrimoine/immobilier/la-maison-de-la-semaine-un-grand-manoir-dans-le-vexin-a-45-min-de-paris-1300848', '/patrimoine/immobilier/immobilier-le-credit-se-feminise-pendant-la-crise-covid-1300844', '/patrimoine/placement/placements-quelles-solutions-pour-votre-epargne-liquide-1300819', '/patrimoine/impots/declaration-dimpots-2021-les-plus-values-des-dirigeants-partant-a-la-retraite-1300379', '/patrimoine/impots/declaration-dimpot-2021-quand-cest-automatique-1300069', '/patrimoine/immobilier/immobilier-du-grand-paris-les-secteurs-ou-investir-ceux-a-eviter-1299940', '/patrimoine/impots/transmission-savoir-manier-les-avantages-de-lassurance-vie-1299844', '/patrimoine/investissements-plaisir/aux-encheres-deux-oeuvres-rares-de-munch-dans-lambiance-2021-1299739', '/patrimoine/impots/votre-assurance-vie-est-elle-vraiment-hors-succession-1299617', '/patrimoine/immobilier/immobilier-les-francais-anticipent-de-nouvelles-hausses-de-prix-1299406', '/patrimoine/impots/3-moyens-de-transmettre-son-patrimoine-a-moindres-frais-1299302', '/patrimoine/assurance/palmares-de-lassurance-vie-les-meilleurs-et-les-pires-rendements-des-fonds-en-euros-1299153', '/patrimoine/impots/declaration-dimpots-2021-limposition-des-plus-values-sur-les-actions-1299067', '/patrimoine/impots/credit-dimpot-covid-pour-abandon-de-loyers-pouvez-vous-en-beneficier-1299033', '/patrimoine/immobilier/la-maison-de-la-semaine-un-chalet-a-araches-la-frasse-1299014', '/patrimoine/impots/declaration-dimpots-2021-noubliez-pas-le-plafonnement-des-niches-fiscales-1298297', '/patrimoine/impots/declaration-dimpots-2021-quand-toucherez-vous-vos-reductions-et-credits-dimpot-1298298', None]\n"
          ],
          "name": "stdout"
        }
      ]
    },
    {
      "cell_type": "code",
      "metadata": {
        "colab": {
          "base_uri": "https://localhost:8080/"
        },
        "id": "kHN2a1uAdEk1",
        "outputId": "aaae20e4-5902-4877-876b-6da6d59a18df"
      },
      "source": [
        "len(url_array)"
      ],
      "execution_count": null,
      "outputs": [
        {
          "output_type": "execute_result",
          "data": {
            "text/plain": [
              "234"
            ]
          },
          "metadata": {
            "tags": []
          },
          "execution_count": 138
        }
      ]
    },
    {
      "cell_type": "code",
      "metadata": {
        "colab": {
          "base_uri": "https://localhost:8080/"
        },
        "id": "R3vO9Q2maAw8",
        "outputId": "b709552f-f88d-4bde-b6d3-c73ce7d1c83b"
      },
      "source": [
        "content = []\n",
        "new_url = []\n",
        "label = []\n",
        "titles = []\n",
        "for i in url_array: \n",
        "  url = 'https://www.lesechos.fr'\n",
        "  if i !=None and '.php'not in i:\n",
        "    url+= str(i) #in order to get the differents pages url\n",
        "    print(url)\n",
        "    response = get(url)\n",
        "    html_soup = BeautifulSoup(response.text,'html.parser')\n",
        "    body = html_soup.find(id='app')\n",
        "    main_art = body.find_all('p',class_=\"sc-AxirZ bUHJAM\")\n",
        "    title = body.find('header',class_='cyue7g-0 bWrNQA')\n",
        "    titles.append(title.get_text())\n",
        "    print(title.get_text())\n",
        "    fullarticle = ''\n",
        "    for itm in main_art:\n",
        "      fullarticle += itm.get_text().replace('\\xa0',' ').replace('\\u202f',' ')\n",
        "    content.append(''.join([i for i in fullarticle if not i.isdigit()]))\n",
        "    new_url.append(url+str(i))\n",
        "    label.append(str(i).split('/')[1])"
      ],
      "execution_count": null,
      "outputs": [
        {
          "output_type": "stream",
          "text": [
            "https://www.lesechos.fr/politique-societe/politique/islamisme-la-majorite-a-loffensive-contre-les-ecologistes-1301625\n",
            "Islamisme : la majorité à l'offensive contre les écologistesProfitant d'une subvention contestée pour la construction d'une mosquée à Strasbourg, plusieurs ministres sont montés au créneau pour dénoncer ce qu'il considère comme une forme de complaisance d'Europe Ecologie-Les Verts à l'égard de l'islamisme radical. Le parti écologiste dénonce une « diabolisation ».Politique\n",
            "https://www.lesechos.fr/politique-societe/societe/ile-de-france-lidee-davancer-les-vacances-scolaires-fait-debat-1301612\n",
            "Ile-de-France : l'idée d'avancer les vacances scolaires fait débatLa proposition de la présidente de la région Ile-de-France d'avancer de deux semaines les vacances scolaires de printemps est accueillie tièdement au ministère de l'Education nationale. Le principal syndicat d'enseignants du primaire, le SNUipp-FSU, va appeler à la grève pour dénoncer la politique du « déni » du gouvernement.Société\n",
            "https://www.lesechos.fr/politique-societe/politique/sondage-exclusif-elections-regionales-en-marche-face-au-risque-du-toboggan-1301557\n",
            "ExclusifSONDAGE EXCLUSIF - Elections régionales : En Marche face au risque du tobogganA moins de trois mois de la date prévue pour le scrutin, les listes LREM-Modem perdent encore du terrain dans le baromètre RégioTrack d'OpinionWay pour « Les Echos ». Une majorité de sympathisants du parti présidentiel pousse à des alliances au second tour, notamment avec la droite.Politique\n",
            "https://www.lesechos.fr/politique-societe/societe/covid-la-france-joue-sur-la-crise-pour-attirer-les-etudiants-etrangers-1301499\n",
            "ExclusifCovid : la France joue sur la crise pour attirer les étudiants étrangersEn continuant à accueillir des étudiants étrangers quand d'autres pays se sont fermés, la France a tiré de la crise sanitaire « un avantage comparatif », estime l'agence Campus France, qui publie ce jeudi ses chiffres annuels. Dans le classement Unesco basé sur les données d'avant crise, l'Hexagone a en revanche régressé à la sixième place mondiale, derrière l'Allemagne et la Russie.Société\n",
            "https://www.lesechos.fr/politique-societe/societe/loi-climat-les-commercants-defendent-les-ecrans-numeriques-dans-leurs-vitrines-1301466\n",
            "Loi Climat : les commerçants défendent les écrans numériques dans leurs vitrinesLes représentants du commerce dénoncent une disposition du projet de loi Climat visant à réglementer l'affichage numérique dans les vitrines. Ils réclament son retrait pur et simple.Société\n",
            "https://www.lesechos.fr/politique-societe/politique/regionales-dans-les-hauts-de-france-la-partie-delicate-de-xavier-bertrand-face-a-une-gauche-unie-et-un-rn-tres-implante-1301448\n",
            "FocusRégionales : dans les Hauts-de-France, la partie délicate de Xavier Bertrand face à une gauche unie et un RN très implantéOfficiellement candidat à l'élection présidentielle, Xavier Bertrand joue la carte de la modestie et du terrain pour gagner le scrutin de juin dans la région qu'il dirige. L'alliance dès le premier tour des partis de gauche pourrait lui compliquer quelque peu la tâche.Politique\n",
            "https://www.lesechos.fr/politique-societe/emmanuel-macron-president/macron-comment-sauver-le-marqueur-europeen-1301373\n",
            "Le fait du jour PolitiqueMacron : comment sauver le « marqueur » européen ?L'UE « a manqué d'ambition sur les vaccins », affirme le président français. Si le RN et LFI tirent des ratés de la politique vaccinale la conclusion qu'il faut moins d'Europe, Emmanuel Macron pense encore pouvoir défendre l'inverse.Emmanuel Macron président\n",
            "https://www.lesechos.fr/politique-societe/gouvernement/covid-lunion-europeenne-a-manque-dambition-sur-les-vaccins-estime-macron-1301302\n",
            "Covid : l'Union européenne a « manqué d'ambition » sur les vaccins, estime MacronLes chefs d'Etat et de gouvernement européens n'ont pas anticipé que le développement des vaccins contre le coronavirus serait aussi rapide, affirme le président français Emmanuel Macron dans un entretien diffusé mercredi par une télévision grecque. C'est la raison pour laquelle l'Union européenne affiche désormais un retard dans sa campagne de vaccination.Gouvernement\n",
            "https://www.lesechos.fr/politique-societe/emmanuel-macron-president/covid-la-confiance-envers-lexecutif-au-plus-bas-1301272\n",
            "SondageCovid : la confiance envers l'exécutif au plus basLes Français estiment à une très large majorité (73 %) que les mesures annoncées la semaine dernière ne seront pas efficaces pour juguler l'épidémie, selon un sondage Elabe publié ce mercredi. Ils ne croient pas majoritairement à la promesse d'Emmanuel Macron de vacciner tous ceux qui le souhaitent d'ici à la fin de l'été.Emmanuel Macron président\n",
            "https://www.lesechos.fr/politique-societe/gouvernement/covid-face-a-lacceleration-du-virus-lexecutif-contraint-detendre-les-restrictions-1301271\n",
            "Covid : face à l'accélération du virus, l'exécutif contraint d'étendre les restrictionsLe Rhône, l'Aube et la Nièvre vont rejoindre ce jeudi les seize départements déjà soumis aux « mesures de freinage renforcés ». La pression demeure extrêmement forte en Ile-de-France, où le corps médical n'a de cesse de sonner l'alarme. Le Premier ministre, Jean Castex, n'exclut pas de durcir encore ces mesures.Gouvernement\n",
            "https://www.lesechos.fr/politique-societe/politique/xavier-bertrand-tente-de-monter-en-puissance-en-se-declarant-candidat-a-la-presidentielle-1301249\n",
            "DécryptageXavier Bertrand tente de monter en puissance en se déclarant « candidat » à la présidentielleSoucieux de s'imposer à droite et de tuer la primaire, le patron de la région Hauts-de-France officialise, dans « Le Point », sa candidature à la présidentielle. Il ne parvient pas encore à perturber le match retour annoncé entre Emmanuel Macron et Marine Le Pen.Politique\n",
            "https://www.lesechos.fr/politique-societe/societe/covid-la-pression-monte-pour-dedoubler-les-classes-dans-les-colleges-1301227\n",
            "Covid : la pression monte pour dédoubler les classes de collègesLes syndicats demandent un dédoublement des classes de collèges. Mais l'Education nationale ne veut pas de mesure générale, similaire à celle qui existe dans les lycées. Seule une trentaine de collèges appliquent aujourd'hui la règle de la demi-jauge.Société\n",
            "https://www.lesechos.fr/politique-societe/regions/covid-quels-sont-les-departements-ou-la-situation-se-degrade-le-plus-1301201\n",
            "En chiffresCovid : quels sont les départements où la situation se dégrade le plus ?Alors que l'Aube, la Nièvre et le Rhône sont en passe de s'ajouter aux 16 départements concernés par un renforcement des mesures sanitaires, la situation se dégrade dans l'ensemble du pays. Le seuil d'alerte maximale a été dépassé dans 35 départements dont l'Eure-et-Loir, les Bouches-du-Rhône et le Var.Régions\n",
            "https://www.lesechos.fr/politique-societe/societe/covid-reserver-le-vaccin-astrazeneca-aux-plus-de-55-ans-cree-la-confusion-critique-lacademie-de-medecine-1301138\n",
            "Covid : réserver le vaccin AstraZeneca aux plus de 55 ans crée la « confusion », critique l'Académie de médecineL'Académie de médecine s'oppose frontalement au gouvernement et à la Haute Autorité de santé (HAS) au sujet de l'usage du vaccin AstraZeneca. Selon elle, la décision de le réserver aux plus de 55 ans risque d'augmenter le taux de gaspillage d'un vaccin pourtant indispensable en pleine épidémie de Covid-19.Société\n",
            "https://www.lesechos.fr/politique-societe/gouvernement/vaccination-les-risques-des-metiers-1301017\n",
            "Le fait du jour PolitiqueVaccination : les risques des métiersLa pression est forte pour vacciner les personnels exposés que sont les enseignants et les « deuxièmes lignes ». Macron l'envisage. Non sans risques.Gouvernement\n",
            "https://www.lesechos.fr/politique-societe/emmanuel-macron-president/covid-19-emmanuel-macron-oblige-de-montrer-au-front-sur-la-vaccination-1300868\n",
            "Covid : Emmanuel Macron obligé de monter au front sur la vaccinationLe président a retrouvé mardi ses accents guerriers pour sonner la mobilisation sur la vaccination. Mais il se heurte aux difficultés d'approvisionnement. L'éventuelle extension des mesures de restriction à de nouveaux territoires doit être étudiée ce mercredi en Conseil de défense.Emmanuel Macron président\n",
            "https://www.lesechos.fr/economie-france/social/covid-emmanuel-macron-veut-elargir-et-accelerer-la-campagne-de-vaccination-1300859\n",
            "Covid : Emmanuel Macron veut élargir et accélérer la campagne de vaccinationLe chef de l'Etat a annoncé mardi l'ouverture de la vaccination aux personnes de 70-74 ans sans comorbidité. Et il l'envisage pour certaines professions, dont les enseignants, « mi-fin avril ». Le gouvernement espère un feu vert de la Haute Autorité de santé pour que les infirmiers puissent prescrire le vaccin et l'administrer à domicile.Social\n",
            "https://www.lesechos.fr/economie-france/social/covid-des-plans-daction-dans-les-entreprises-pour-renforcer-le-teletravail-1300818\n",
            "Covid : des plans d'action dans les entreprises pour renforcer le télétravailLe nouveaux protocole sanitaire dans les entreprises prévoit que dans les départements reconfinés, les employeurs définissent un plan d'action «pour réduire au maximum le temps de présence sur site ». Les règles de la restauration collective sont par ailleurs durcies.Social\n",
            "https://www.lesechos.fr/economie-france/social/exclusif-covid-lile-de-france-va-deprogrammer-80-des-soins-pour-ouvrir-des-reanimations-1300748\n",
            "ExclusifEXCLUSIF - L'Ile-de-France va déprogrammer 80 % des soins pour ouvrir des lits de réanimationLa région capitale pourrait compter 1.500 malades du Covid en réanimation dès la fin de la semaine. C'est le branle-bas de combat dans les établissements de santé pour trouver du personnel et atteindre la nouvelle cible de 2.200 lits.Social\n",
            "https://www.lesechos.fr/politique-societe/emmanuel-macron-president/covid-la-vaccination-ouverte-aux-70-75-ans-sans-comorbidite-des-samedi-1300718\n",
            "Covid : la vaccination ouverte aux 70-75 ans sans comorbidité dès samediEn déplacement ce mardi à Valenciennes, Emmanuel Macron a donné un coup d'accélérateur à la vaccination. Il a annoncé des campagnes ciblées en avril-mai à destination de professions spécifiques, comme les enseignants.Emmanuel Macron président\n",
            "https://www.lesechos.fr/economie-france/social/covid-tour-de-vis-sur-les-restaurants-dentreprise-1300685\n",
            "Covid : tour de vis sur les restaurants d'entreprisePour lutter contre la propagation du coronavirus sur le lieu de travail, le gouvernement a présenté lundi soir de nouvelles mesures concernant les cantines. Les distances entre les clients sont drastiquement renforcées, tandis que l'usage de paniers-repas est fortement encouragé.Social\n",
            "https://www.lesechos.fr/politique-societe/politique/edouard-philippe-loyal-et-libre-en-meme-temps-1300626\n",
            "Le fait du jour PolitiqueEdouard Philippe : loyal et libre, « en même temps » ?Huit mois après son départ de Matignon, l'ancien Premier ministre va revenir à la faveur d'un livre. La discrétion n'est pas au programme.Politique\n",
            "https://www.lesechos.fr/politique-societe/politique/regionales-le-demarrage-en-douceur-des-candidats-de-la-majorite-1300605\n",
            "Régionales : le démarrage en douceur des candidats de la majoritéToutes les têtes de liste du camp présidentiel ont été désignées pour les élections régionales, normalement prévues en juin. Mais toutes n'ont pas encore lancé leur campagne, qui s'annonce difficile.Politique\n",
            "https://www.lesechos.fr/politique-societe/societe/tensions-sur-la-reforme-de-lepreuve-de-langues-dans-les-grandes-ecoles-de-management-1300597\n",
            "Tensions sur la réforme de l'épreuve de langues dans les grandes écoles de managementLa réforme de l'épreuve de langues vivantes telle qu'envisagée par les plus prestigieuses écoles de management a provoqué un tollé auprès des professeurs de classes préparatoires. Un groupe de travail a été créé pour trouver un terrain d'entente d'ici à cet été.Société\n",
            "https://www.lesechos.fr/politique-societe/politique/les-elus-locaux-montent-aux-creneau-contre-un-report-des-regionales-1300389\n",
            "DécryptageLes élus locaux montent au créneau contre un report des régionalesDix présidents de régions et les associations d'élus appellent au maintien des élections régionales en juin, malgré la difficulté à mener la campagne. L'exécutif, qui attend les recommandations du Conseil scientifique, jure qu'il n'est « aujourd'hui pas prévu de les reporter ».Politique\n",
            "https://www.lesechos.fr/economie-france/social/assurance-chomage-une-premiere-evaluation-de-limpact-de-la-reforme-1301617\n",
            "Assurance-chômage : une première évaluation de l'impact de la réformeLa nouvelle formule de calcul de l'allocation touchera 1,15 million de chômeurs la première année, selon les projections de l'Unédic. La baisse de celle-ci sera de 17 % en moyenne, adoucie par un allongement de la durée d'indemnisation.Social\n",
            "https://www.lesechos.fr/politique-societe/societe/loi-climat-les-commercants-defendent-les-ecrans-numeriques-dans-leurs-vitrines-1301466\n",
            "Loi Climat : les commerçants défendent les écrans numériques dans leurs vitrinesLes représentants du commerce dénoncent une disposition du projet de loi Climat visant à réglementer l'affichage numérique dans les vitrines. Ils réclament son retrait pur et simple.Société\n",
            "https://www.lesechos.fr/economie-france/conjoncture/covid-les-patrons-francais-avaient-retrouve-le-moral-avant-les-nouvelles-restrictions-1301411\n",
            "Covid : les patrons français avaient retrouvé le moral… avant les nouvelles restrictionsL'indice du climat des affaires a grimpé en mars de 7 points, à 97 points, a indiqué ce jeudi l'Insee. Il est proche de sa moyenne de long terme et au plus haut depuis le début de la crise sanitaire. Mais l'enquête a été réalisée avant l'annonce du nouveau confinement.Conjoncture\n",
            "https://www.lesechos.fr/economie-france/social/negociations-patronat-syndicats-la-cgt-opte-pour-la-chaise-vide-1301336\n",
            "DécryptageNégociations patronat-syndicats : la CGT opte pour la chaise videLe numéro un de la CGT, Philippe Martinez, a écrit à celui du Medef, Geoffroy Roux de Bézieux, pour lui annoncer que son organisation ne participerait pas aux discussions entre partenaires sociaux. Une rupture majeure dans l'histoire de la centrale.Social\n",
            "https://www.lesechos.fr/economie-france/conjoncture/covid-regain-doptimisme-chez-les-industriels-francais-et-europeens-1301243\n",
            "Covid : regain d'optimisme chez les industriels français et européensLes entreprises commencent à entrevoir une éclaircie, surtout dans l'industrie. L'indice PMI d'IHS Markit dans l'industrie se situe à son plus haut depuis la fin 2017. Mais un tel optimisme paraît prématuré à beaucoup d'économistes.Conjoncture\n",
            "https://www.lesechos.fr/economie-france/social/le-renflouement-de-la-securite-sociale-juge-prioritaire-par-rapport-a-la-dette-sociale-1301203\n",
            "Le renflouement de la Sécurité sociale jugé prioritaire par rapport à la detteLes ressources affectées au remboursement de la dette Covid manquent à la Sécurité sociale, entraînant du déficit puis de la nouvelle dette. Le Haut Conseil pour le financement de la protection sociale plaide pour apporter des recettes en compte courant à l'Assurance maladie, tout en fixant une trajectoire de retour à l'équilibre de long terme et en rénovant la gouvernance.Social\n",
            "https://www.lesechos.fr/economie-france/conjoncture/la-france-championne-du-controle-des-investisseurs-etrangers-en-europe-1301210\n",
            "La France, championne du contrôle des investisseurs étrangers en EuropeEn deux ans, le nombre de contrôle des acquisitions menées par des groupes étrangers a bondi de près de 50 % dans l'Hexagone, à 275 opérations en 2020, a indiqué Bercy, mercredi. Un niveau supérieur à l'Allemagne et aux autres pays européens. Le nouveau mécanisme de coopération communautaire devrait encore accélérer la tendance.Conjoncture\n",
            "https://www.lesechos.fr/economie-france/social/patronat-et-syndicats-rouvrent-le-chantier-de-la-formation-professionnelle-1301134\n",
            "Patronat et syndicats rouvrent le chantier de la formation professionnelleLes partenaires sociaux ont défini, mardi soir, une feuille de route et un calendrier de discussions sur la formation professionnelle, premier thème abordé dans le cadre de l'agenda partagé proposé par le Medef.Social\n",
            "https://www.lesechos.fr/economie-france/social/quel-avenir-pour-la-dette-covid-1301077\n",
            "CQFDQuel avenir pour la dette Covid ?Cantonnement, annulation, émission d'une dette perpétuelle… Alors que la troisième vague de coronavirus touche la France, la question du remboursement de la dette Covid se fait de plus en plus présente dans le débat public. Tour d'horizon avec CQFD, le format pédagogique des « Echos ».Social\n",
            "https://www.lesechos.fr/economie-france/social/protection-sociale-des-independants-ce-que-demande-le-patronat-1301009\n",
            "Protection sociale des indépendants : ce que demande le patronatLe ministre délégué aux PME, Alain Griset, travaille pour présenter un plan pour mieux protéger les indépendants dans la première quinzaine d'avril. L'Union des entreprises de proximité (U2P) a fait ses propositions.Social\n",
            "https://www.lesechos.fr/economie-france/budget-fiscalite/dette-covid-le-rapport-arthuis-accueilli-tiedement-par-les-parlementaires-1300974\n",
            "Dette Covid : le rapport Arthuis accueilli tièdement par les parlementairesLes propositions de ce rapport, reprises en partie lundi soir par le ministre de l'Economie, Bruno Le Maire, sont jugées assez convenues et imprécises par des élus de tous bords.Budget fiscalité\n",
            "https://www.lesechos.fr/economie-france/social/covid-le-durcissement-de-lassurance-chomage-reste-hypothetique-1300946\n",
            "DécryptageCovid : le durcissement de l'assurance-chômage reste hypothétiqueRenforcement des conditions d'éligibilité et dégressivité des allocations ne s'appliqueront que quand l'emploi aura repris durablement des couleurs. Les critères retenus par le ministère n'ont été observés qu'une fois concomitamment depuis 2008.Social\n",
            "https://www.lesechos.fr/economie-france/social/covid-emmanuel-macron-veut-elargir-et-accelerer-la-campagne-de-vaccination-1300859\n",
            "Covid : Emmanuel Macron veut élargir et accélérer la campagne de vaccinationLe chef de l'Etat a annoncé mardi l'ouverture de la vaccination aux personnes de 70-74 ans sans comorbidité. Et il l'envisage pour certaines professions, dont les enseignants, « mi-fin avril ». Le gouvernement espère un feu vert de la Haute Autorité de santé pour que les infirmiers puissent prescrire le vaccin et l'administrer à domicile.Social\n",
            "https://www.lesechos.fr/economie-france/social/covid-des-plans-daction-dans-les-entreprises-pour-renforcer-le-teletravail-1300818\n",
            "Covid : des plans d'action dans les entreprises pour renforcer le télétravailLe nouveaux protocole sanitaire dans les entreprises prévoit que dans les départements reconfinés, les employeurs définissent un plan d'action «pour réduire au maximum le temps de présence sur site ». Les règles de la restauration collective sont par ailleurs durcies.Social\n",
            "https://www.lesechos.fr/economie-france/social/covid-qui-peut-se-faire-vacciner-en-france-et-avec-quel-vaccin-1300796\n",
            "Covid : qui peut se faire vacciner en France, et avec quel vaccin ?Les 70-74 ans intègrent la tranche d'âge des personnes sans comorbidité éligibles à la vaccination contre le Covid-19. Qui peut se faire vacciner aujourd'hui en France, dans quels lieux et avec quel sérum ? Récapitulatif.Social\n",
            "https://www.lesechos.fr/economie-france/social/exclusif-covid-lile-de-france-va-deprogrammer-80-des-soins-pour-ouvrir-des-reanimations-1300748\n",
            "ExclusifEXCLUSIF - L'Ile-de-France va déprogrammer 80 % des soins pour ouvrir des lits de réanimationLa région capitale pourrait compter 1.500 malades du Covid en réanimation dès la fin de la semaine. C'est le branle-bas de combat dans les établissements de santé pour trouver du personnel et atteindre la nouvelle cible de 2.200 lits.Social\n",
            "https://www.lesechos.fr/economie-france/social/covid-tour-de-vis-sur-les-restaurants-dentreprise-1300685\n",
            "Covid : tour de vis sur les restaurants d'entreprisePour lutter contre la propagation du coronavirus sur le lieu de travail, le gouvernement a présenté lundi soir de nouvelles mesures concernant les cantines. Les distances entre les clients sont drastiquement renforcées, tandis que l'usage de paniers-repas est fortement encouragé.Social\n",
            "https://www.lesechos.fr/economie-france/budget-fiscalite/comment-bruno-le-maire-veut-rembourser-la-dette-covid-1300566\n",
            "Comment Bruno Le Maire veut rembourser la dette CovidLe ministre de l'Economie explique vouloir isoler la dette Covid, mais exclut d'y affecter une taxe comme la CRDS pour la rembourser. A la place, une part des recettes liées au retour de la croissance serait dirigée pour l'amortir. A Bercy, on réfléchit à instaurer une norme de dépense pluriannuelle.Budget fiscalité\n",
            "https://www.lesechos.fr/economie-france/budget-fiscalite/surcroit-depargne-le-maire-pret-a-un-geste-pour-les-petites-donations-1300437\n",
            "Surcroît d'épargne : Le Maire prêt à un geste pour les petites donationsLe ministre de l'Economie veut favoriser les donations pour libérer l'épargne accumulée pendant la pandémie de Covid, mais entend cibler la mesure sur les petites donations, de préférence à destination des jeunes. Des doutes s'expriment dans la majorité sur cette mesure, assimilable à un cadeau aux plus aisés.Budget fiscalité\n",
            "https://www.lesechos.fr/economie-france/social/covid-lancement-laborieux-des-elections-syndicales-dans-les-tpe-1300387\n",
            "Covid: lancement laborieux des élections syndicales dans les TPEL'épidémie de Covid, qui a conduit à décaler à ce lundi le début de l'élection de représentativité syndicale dans les TPE, fait craindre une abstention encore plus massive que lors du précédent scrutin, en janvier 2017. La CFDT ambitionne de réduire l'écart avec la CGT.Social\n",
            "https://www.lesechos.fr/economie-france/social/exclusif-lexecutif-mise-sur-les-vaccinodromes-pour-accelerer-la-campagne-de-vaccination-1300239\n",
            "ExclusifExclusif - Covid : l'exécutif mise sur les vaccinodromes pour accélérer la campagne de vaccinationLe gouvernement prépare l'ouverture du premier vaccinodrome à la fin du mois, et compte en ouvrir un à deux par département. Ils seront gérés par les ARS, l'armée, l'assurance-maladie, ou les pompiers. En avril, la France recevra près de 13 millions de doses et pourrait atteindre l'objectif de 10 millions de primo-vaccinés.Social\n",
            "https://www.lesechos.fr/economie-france/social/teletravail-lexecutif-pousse-les-prefets-a-mettre-les-entreprises-sous-pression-1300235\n",
            "Télétravail : l'exécutif pousse les préfets à mettre les entreprises sous pressionUne instruction a été envoyée aux préfets de région et de département des zones confinées pour leur demander d'établir un plan d'action. Alors que l'épidémie s'est accélérée, l'ampleur du télétravail stagne dans le privé.Social\n",
            "https://www.lesechos.fr/economie-france/social/covid-astrazeneca-ne-tiendra-plus-un-role-central-dans-la-campagne-de-vaccination-1300202\n",
            "DécryptageCovid : AstraZeneca ne tiendra plus un rôle central dans la campagne de vaccinationLa décision de la Haute autorité de santé vendredi de réserver le vaccin d'AstraZeneca aux plus de 55 ans bouscule le plan vaccinal et risque de faire hésiter les candidats à la vaccination. De plus, les projections de livraison ont fondu, et demeurent incertaines. A l'inverse, Pfizer monte en charge.Social\n",
            "https://www.lesechos.fr/economie-france/budget-fiscalite/covid-bercy-muscle-le-dispositif-daides-et-garde-lespoir-dune-croissance-de-6-en-2021-1300196\n",
            "Covid : Bercy muscle le dispositif d'aides et garde l'espoir d'une croissance de 6 % en 2021Le gouvernement continue de muscler le fonds de solidarité, qui accordera désormais une aide mensuelle de 1.500 euros aux commerces fermés seulement le week-end. Malgré le reconfinement, Bruno Le Maire maintient son objectif de croissance pour cette année.Budget fiscalité\n",
            "https://www.lesechos.fr/economie-france/social/covid-le-vaccin-astrazeneca-est-desormais-reserve-aux-plus-de-55-ans-1299959\n",
            "Covid : le vaccin AstraZeneca est désormais réservé aux plus de 55 ansLa Haute Autorité de santé a revu ses recommandations d'utilisation du vaccin suite au feu vert de l'Agence européenne du médicament. Elle prend en compte d'éventuels risques, rares, de troubles de la coagulation chez les jeunes. Dans l'immédiat, cela ne devrait pas freiner la campagne vaccinale, centrée sur les seniors.Social\n",
            "https://www.lesechos.fr/monde/afrique-moyen-orient/cinq-points-a-connaitre-sur-le-canal-de-suez-1301611\n",
            "Cinq points à connaître sur le canal de SuezLe canal de Suez fait partie des huit voies navigables les plus stratégiques de la planète. Dédoublé sur un cinquième de sa longueur en 2015, il était ces derniers mois devenu la principale source de devises de l'Egypte. Le milieu de l'assurance maritime surveille de près cet incident.Afrique & Moyen-Orient\n",
            "https://www.lesechos.fr/monde/europe/covid-la-hongrie-affiche-le-record-mondial-du-taux-de-mortalite-1301567\n",
            "Covid : la Hongrie affiche le record mondial du taux de mortalitéLe nombre de décès a bondi de plus de 40 %, comparé à la semaine précédente, dans ce pays de 9,8 millions d'habitants. Les hôpitaux sont au bord de la rupture. La Hongrie de Viktor Orban s'est affranchi de la politique européenne en validant les vaccins russe et chinois.Europe\n",
            "https://www.lesechos.fr/monde/europe/la-repartition-des-doses-de-vaccins-fait-debat-en-europe-1301558\n",
            "La répartition des doses de vaccins fait débat en EuropeSept pays, emmenés par l'Autriche, se plaignent d'avoir reçu moins de doses que les autres. Ils paient leur choix d'avoir misé majoritairement sur AstraZeneca. Mais demandent un effort de solidarité de la part des autres.Europe\n",
            "https://www.lesechos.fr/monde/europe/vaccins-pourquoi-londres-cherche-a-calmer-le-jeu-apres-le-coup-de-pression-de-bruxelles-1301483\n",
            "Vaccins : pourquoi Londres cherche à calmer le jeu, après le coup de pression de BruxellesLes gestes qu'est prêt à faire Boris Johnson restent pour l'instant limités. Et sa démarche conciliante vis-à-vis de l'UE est évidemment calculée, la campagne de vaccination britannique dépendant de plus en plus de la production européenne.Europe\n",
            "https://www.lesechos.fr/monde/europe/covid-les-finances-du-vatican-frappees-de-plein-fouet-par-la-crise-1301482\n",
            "DécryptageCovid : les finances du Vatican frappées de plein fouet par la criseDéjà moribonde, la trésorerie du Saint-Siège est lourdement pénalisée par la crise sanitaire, qui a fermé les églises et les musées de la Cité-Etat. Illustration de ces difficultés, le pape a annoncé mercredi une baisse de salaire des plus hauts dignitaires de l'Eglise.Europe\n",
            "https://www.lesechos.fr/monde/etats-unis/la-virginie-abolit-la-peine-de-mort-une-premiere-pour-un-etat-du-sud-americain-1301424\n",
            "La Virginie abolit la peine de mort, une première pour un Etat du Sud américainSous l'impulsion de son gouverneur démocrate, la Virginie est devenue mercredi soir le 23e Etat américain à interdire l'exécution de condamnés. La réforme a toutefois provoqué des débats politiques très tendus dans cet ancien territoire ségrégationniste.États-Unis\n",
            "https://www.lesechos.fr/monde/ameriques/covid-le-bresil-a-la-derive-1301401\n",
            "Covid : le Brésil à la dériveLe pays enregistre désormais plus de 300.000 morts et le risque de pénurie de médicaments et d'oxygène est patent. Un an après le début de la pandémie, le président Bolsonaro annonce la création d'un comité anti-Covid.Amériques\n",
            "https://www.lesechos.fr/monde/europe/covid-campagne-de-vaccination-brouillonne-en-italie-1301402\n",
            "Covid : l'Italie échoue à vacciner rapidement les plus âgés27 % seulement des plus de 80 ans ont bénéficié d'une première dose de vaccin, contre 54 % en moyenne en Europe. Mario Draghi fustige une défaillance de pilotage des régions, qui gèrent le secteur sanitaire, et un système de favoritisme pour des professions influentes.Europe\n",
            "https://www.lesechos.fr/monde/europe/espagne-aznar-et-rajoy-nient-lexistence-dune-caisse-noire-du-parti-populaire-1301394\n",
            "Espagne : Aznar et Rajoy nient l'existence d'une caisse noire du Parti populaireLes deux anciens chefs du gouvernement espagnol ont comparu devant la justice, cités comme témoins dans le cadre du procès concernant la comptabilité parallèle de leur parti. Ils ont nié en bloc avoir eu connaissance d'irrégularités.Europe\n",
            "https://www.lesechos.fr/monde/europe/les-defis-de-la-vaccination-de-masse-des-europeens-1301381\n",
            "Covid : les défis de la vaccination de masse des EuropéensLe pari de vacciner massivement la population européenne d'ici à l'été est jouable, selon Bruxelles. A deux conditions : multiplier par quatre les vaccinations et par deux la production.Europe\n",
            "https://www.lesechos.fr/monde/enjeux-internationaux/en-direct-le-25-mars-covid-le-point-sur-la-situation-en-france-et-dans-le-monde-1301332\n",
            "EN DIRECT - Covid : plus de 45.000 nouvelles contaminations en 24 heuresLes hôpitaux français comptent 4.709 patients en réanimations en raison d'une infection au Covid-19 ce jeudi, soit 58 de plus que la veille, selon Santé Publique France. Dans la Nièvre, le Rhône et l'Aube, les mesures de restrictions seront amplifiées à partir de ce vendredi minuit.Enjeux internationaux\n",
            "https://www.lesechos.fr/monde/asie-pacifique/pyongyang-teste-ladministration-biden-avec-des-tirs-de-missiles-balistiques-1301323\n",
            "Pyongyang teste l'administration Biden avec des tirs de missiles balistiquesLa Corée du Nord a testé, ce jeudi matin, deux projectiles de portée moyenne potentiellement capables d'emporter des charges nucléaires sur près de 500 kilomètres. Les capitales de la région condamnent cette nouvelle « provocation » de Kim Jong-un, qui n'a jamais cessé, malgré les sommets avec Donald Trump, de développer son arsenal militaire.Asie & Pacifique\n",
            "https://www.lesechos.fr/monde/enjeux-internationaux/covid-la-reprise-economique-sannonce-tres-inegale-selon-les-pays-1301305\n",
            "Covid : la reprise économique s'annonce très inégale selon les paysAlors que beaucoup de régions luttent contre une nouvelle vague épidémique, les pays spécialisés dans l'électronique comme le Vietnam, la Corée et Taïwan repartent les premiers. Fin 2021, les Etats-Unis et la Chine devraient avoir retrouvé leur niveau d'avant-crise.Enjeux internationaux\n",
            "https://www.lesechos.fr/idees-debats/editos-analyses/vaccins-leurope-durcit-enfin-son-jeu-1301266\n",
            "ÉditoVaccins : l'Europe durcit enfin son jeuPrincipal exportateur, l'UE avance le critère de réciprocité pour renforcer ses contrôles. Une mesure justifiée même si la hausse des livraisons viendra avant tout de l'accélération de la production.Éditos & Analyses\n",
            "https://www.lesechos.fr/monde/europe/les-europeens-tentent-de-reprendre-la-main-pour-accroitre-les-livraisons-de-vaccins-1301276\n",
            "Les Européens tentent de reprendre la main pour accroître les livraisons de vaccinsLes dirigeants des Vingt-Sept se réunissent par visioconférence, jeudi et vendredi. Un sommet focalisé sur la crise sanitaire et les moyens de mieux encadrer les exportations de vaccins de l'UE. Londres et Bruxelles disent travailler à une « solution mutuellement bénéfique » pour accroître les approvisionnements.Europe\n",
            "https://www.lesechos.fr/monde/afrique-moyen-orient/israel-lintrouvable-coalition-parlementaire-1301239\n",
            "DécryptageIsraël : l'introuvable coalition parlementairePour ce quatrième scrutin en deux ans, les Israéliens ont moins voté. La gauche et le centre gauche sont incapables de former un gouvernement. Et Benyamin Netanyahou est, lui aussi, loin de pouvoir former une coalition.Afrique & Moyen-Orient\n",
            "https://www.lesechos.fr/monde/europe/la-belgique-se-reconfine-pour-un-mois-1301200\n",
            "La Belgique se reconfine pour un moisLe pays connaît un net rebond de l'épidémie. Les écoles vont refermer jusqu'au 19 avril, les commerces non essentiels jusqu'au 25 avril. Alexander de Croo juge toujours possible de « passer un été sans souci ».Europe\n",
            "https://www.lesechos.fr/monde/afrique-moyen-orient/la-turquie-veut-calmer-le-jeu-avec-leurope-sans-beaucoup-dactes-concrets-1301197\n",
            "La Turquie veut calmer le jeu avec l'Europe sans beaucoup d'actes concretsLa Turquie essaye de tourner la page de ses différends avec les Européens. Mais cette offensive de charme s'est pour l'instant traduite par peu d'actes concrets, hormis une reprise des discussions avec la Grèce.Afrique & Moyen-Orient\n",
            "https://www.lesechos.fr/monde/europe/confinement-face-aux-critiques-angela-merkel-fait-machine-arriere-1301186\n",
            "Confinement : face aux critiques, Angela Merkel fait machine arrièreFaute de temps, la mise à l'arrêt de l'économie prévue par l'exécutif allemand durant la période pascale s'est révélée impraticable. La chancelière s'est excusée auprès de la population pour cette « erreur » qui nourrit l'image d'un gouvernement dépassé par la pandémie.Europe\n",
            "https://www.lesechos.fr/monde/etats-unis/les-etats-unis-manquent-de-maisons-a-vendre-1301178\n",
            "FocusLes Etats-Unis manquent de maisons à vendreL'ampleur du télétravail a dopé les ventes et les prix des logements aux Etats-Unis. Les stocks sont à des niveaux historiquement bas. Une pression pour l'accession à la propriété des ménages modestes.États-Unis\n",
            "https://www.lesechos.fr/monde/europe/exportations-de-vaccin-bruxelles-exige-la-reciprocite-et-la-proportionnalite-1301146\n",
            "Exportations de vaccin : Bruxelles exige « la réciprocité et la proportionnalité »La Commission européenne veut que son approvisionnement soit garanti avant que des vaccins ne soient envoyés aux Etats-Unis ou au Royaume-Uni.Europe\n",
            "https://www.lesechos.fr/monde/europe/bruxelles-lorgne-sur-29-millions-de-doses-dastrazeneca-decouvertes-en-italie-1301143\n",
            "Covid : Bruxelles lorgne 29 millions de doses d'AstraZeneca découvertes en ItalieDes contrôles réclamés par Bruxelles ont permis de lever en partie le voile sur les stocks en Europe du laboratoire britannico-suédois.Europe\n",
            "https://www.lesechos.fr/monde/afrique-moyen-orient/grand-pas-en-avant-de-la-transition-en-libye-1301110\n",
            "Grand pas en avant de la transition en LibyeLe gouvernement libyen de réconciliation nationale chargé d'organiser des élections et mettre fin à dix ans de guerre civile presque ininterrompue s'installe peu à peu. La France rouvre lundi son ambassade.Afrique & Moyen-Orient\n",
            "https://www.lesechos.fr/monde/enjeux-internationaux/le-fmi-envisage-une-augmentation-de-capital-de-650-milliards-de-dollars-1301073\n",
            "Le FMI envisage une augmentation de capital de 650 milliards de dollarsAfin de renforcer la lutte contre la pandémie et aider les pays en développement, une allocation générale équivalente à 650 milliards de dollars est en négociation au FMI. Une proposition formelle sera soumise d'ici à juin au conseil d'administration de l'institution.Enjeux internationaux\n",
            "https://www.lesechos.fr/monde/enjeux-internationaux/comment-leurope-veut-lutter-contre-les-fuites-de-carbone-1301025\n",
            "Comment l'Europe veut lutter contre les « fuites » de carboneLa taxe carbone aux frontières en préparation devrait permettre de limiter le risque de délocalisations vers des régions aux normes climat moins strictes. Mais son impact direct sur les émissions de CO 2 est encore difficile à évaluer.Enjeux internationaux\n",
            "https://www.lesechos.fr/tech-medias/medias/jeune-afrique-investit-8-millions-deuros-pour-atteindre-100000-abonnes-1301631\n",
            "« Jeune Afrique » investit 8 millions d'euros pour atteindre 100.000 abonnésLe média basé à Paris, sorti d'un plan de sauvegarde de l'emploi, accélère son virage numérique. Sa déclinaison anglaise « Africa Report » représente 30 % de son objectif d'abonnés à cinq ans.Médias\n",
            "https://www.lesechos.fr/tech-medias/medias/la-formule-1-a-reconquis-les-telespectateurs-francais-1301585\n",
            "La Formule 1 a reconquis les téléspectateurs françaisAlors que la première manche du championnat du monde débute vendredi à Bahreïn, les audiences de la discipline n'ont jamais été aussi élevées. Pour le plus grand bonheur de son diffuseur français Canal+, d'autant que les coûts des droits ne sont pas sujets à la même inflation que ceux du football.Médias\n",
            "https://www.lesechos.fr/tech-medias/hightech/tencent-se-prepare-au-tour-de-vis-de-pekin-apres-une-excellente-annee-2020-1301537\n",
            "Tencent se prépare au tour de vis de Pékin après une excellente année 2020Après Alibaba, le géant chinois des réseaux sociaux pourrait être la prochaine cible de Pékin qui entend désormais réguler ses champions de la tech. Le groupe a confirmé être en discussions avec les régulateurs. Le titre a été sanctionné en Bourse malgré de bons résultats l'année dernière.Hightech\n",
            "https://www.lesechos.fr/tech-medias/hightech/leurope-doit-investir-300-milliards-deuros-dans-ses-reseaux-telecoms-selon-les-operateurs-1301470\n",
            "L'Europe doit investir 300 milliards d'euros dans ses réseaux télécoms, selon les opérateursUne étude réalisée par le lobby des grands opérateurs européens estime qu'il faut multiplier les dépenses par 2,5 d'ici à 2027 pour atteindre les objectifs de couverture que s'est fixés l'Union. Ils appellent à soutenir la numérisation des écoles et des PME. Et à desserrer les contraintes administratives sur l'industrie.Hightech\n",
            "https://www.lesechos.fr/tech-medias/hightech/puces-une-penurie-qui-menace-les-pme-de-tous-les-secteurs-de-leconomie-1301259\n",
            "Semi-conducteurs : une pénurie qui menace surtout les PMELes grands consommateurs de semi-conducteurs comme les géants de la tech réussissent à sécuriser leurs approvisionnements auprès de fournisseurs qu'ils connaissent bien et qu'ils payent davantage. Pour les millions d'autres entreprises, c'est plus complexe.Hightech\n",
            "https://www.lesechos.fr/tech-medias/medias/netflix-ne-veut-pas-seulement-financer-lexception-culturelle-mais-aussi-en-beneficier-1301258\n",
            "Netflix ne veut pas seulement financer l'exception culturelle, mais aussi en bénéficierLe géant du streaming demande que ses productions bénéficient des aides du CNC et du crédit d'impôt. Une réflexion est en cours. Certaines chaînes historiques y sont hostiles.Médias\n",
            "https://www.lesechos.fr/tech-medias/hightech/pourquoi-intel-entre-en-co-opetition-avec-tsmc-1301232\n",
            "DécryptagePourquoi Intel entre en « co-opétition » avec TSMCLa stratégie du nouveau patron d'Intel s'appuie sur un recours accru aux fonderies tierces comme le Taïwanais, tout en positionnant l'entreprise en concurrence frontale avec ces mêmes acteurs en investissant dans deux grosses usines.Hightech\n",
            "https://www.lesechos.fr/tech-medias/hightech/reseau-cuivre-dorange-larcep-denonce-un-calvaire-dans-les-campagnes-1301225\n",
            "Réseau cuivre d'Orange : l'Arcep dénonce un « calvaire » dans les campagnesLe manque d'entretien sur le vieux réseau cuivre d'Orange, utilisé par 21 millions de Français, n'est « pas acceptable » a estimé mercredi Laure de La Raudière, la nouvelle présidente du régulateur des télécoms, lors de sa première audition devant des parlementaires.Hightech\n",
            "https://www.lesechos.fr/tech-medias/hightech/en-plein-boom-la-messagerie-chiffree-telegram-leve-1-milliard-de-dollars-de-dettes-1301130\n",
            "En plein boom, la messagerie chiffrée Telegram lève 1 milliard de dollars de dettesLe groupe russe vient de lever pour près de 1 milliard de dollars d'obligations, peut-être en partie auprès d'un fonds du Kremlin, même si la société nie. Depuis plusieurs mois, la croissance de Telegram s'accélère fortement. Mi-janvier, l'application aux messages chiffrés a franchi la barre symbolique des 500 millions d'utilisateurs actifs mensuels.Hightech\n",
            "https://www.lesechos.fr/tech-medias/hightech/amazon-accelere-dans-la-production-de-jeux-video-et-recrute-chez-ubisoft-1301108\n",
            "Amazon accélère dans la production de jeux vidéo et recrute chez UbisoftLe géant de la tech va ouvrir son quatrième studio de production. Pour cette nouvelle structure, il a recruté du côté de l'équipe qui a longtemps travaillé sur l'une des licences phares du français Ubisoft : « Tom Clancy's Rainbow Six Siege ». Malgré ses récents revers dans le développement de jeux vidéo, Amazon ne semble pas se décourager.Hightech\n",
            "https://www.lesechos.fr/weekend/business-story/semi-conducteurs-tsmc-ce-geant-taiwanais-qui-peut-paralyser-le-monde-1301043\n",
            "EnquêteSemi-conducteurs : TSMC, ce géant taiwanais qui peut paralyser le mondeLe géant taiwanais des semi-conducteurs, le plus avancé technologiquement, est le mieux positionné pour profiter de l'arrivée de la 5G et des objets connectés. Ses produits sont tellement stratégiques qu'il est devenu un enjeu de la rivalité entre Etats-Unis et Chine. Une histoire d'excellence, alors qu'Intel vient d'annoncer un investissement de 20 milliards de dollars pour accroître ses capacités de production de semi-conducteurs.Business Story\n",
            "https://www.lesechos.fr/tech-medias/hightech/intel-investit-dans-la-fabrication-de-semi-conducteurs-aux-etats-unis-1300934\n",
            "Intel donne du muscle à la stratégie américaine dans les semi-conducteursLe nouveau directeur général d'Intel, Pat Gelsinger, a annoncé mardi un projet d'investissement de 20 milliards de dollars en Arizona pour accroître les capacités de production de semi-conducteurs du groupe. Un projet qui s'inscrit dans la volonté de Washington de se renforcer dans des secteurs stratégiques.Hightech\n",
            "https://www.lesechos.fr/tech-medias/hightech/les-entreprises-point-noir-du-marche-des-telecoms-en-france-1300867\n",
            "Les entreprises, « point noir » du marché des télécoms en FranceFavoriser la concurrence sur le marché des télécoms d'entreprises va être l'une des priorités de Laure de La Raudière, la nouvelle présidente de l'Arcep, le régulateur du secteur. Un chantier qui s'avère difficile, les tentatives de son prédécesseur ayant eu un impact limité.Hightech\n",
            "https://www.lesechos.fr/tech-medias/medias/les-audiences-des-medias-americains-plombes-par-le-depart-de-trump-1300804\n",
            "Les audiences des médias américains plombées par le départ de TrumpLes grands journaux et les principales chaînes de télévision ont connu un effritement de leur audience lors des cinq dernières semaines. CNN accuse une chute de 45 % sur la période, quand le « Washington Post » fait état d'une baisse de 26 %.Médias\n",
            "https://www.lesechos.fr/tech-medias/hightech/free-se-lance-a-lassaut-du-marche-des-telecoms-dentreprise-1300751\n",
            "Free se lance à l'assaut du marché des télécoms d'entrepriseL'opérateur contrôlé par Xavier Niel présente ses toutes premières offres pour les entreprises. Avec une nouvelle box à 50 euros par mois et sans engagement, Free entend s'inviter sur ce marché historiquement dominé par Orange et SFR.Hightech\n",
            "https://www.lesechos.fr/tech-medias/hightech/cinema-cineworld-va-rouvrir-ses-salles-aux-etats-unis-et-au-royaume-uni-1300731\n",
            "Cinéma : Cineworld va rouvrir ses salles aux Etats-Unis et au Royaume-UniLe groupe britannique va redémarrer l'activité de ses salles obscures Regal aux Etats-Unis début avril. Cineworld a aussi noué un nouvel accord pluriannuel avec le studio Warner Bros, lui octroyant une fenêtre d'exclusivité de 45 jours sur les films de ce dernier. En Bourse, l'exploitant de salles recule de plus de 7 % en fin de matinée.Hightech\n",
            "https://www.lesechos.fr/tech-medias/hightech/microsoft-lorgnerait-discord-pour-un-rachat-a-10-milliards-de-dollars-dans-le-jeu-video-1300720\n",
            "Microsoft lorgnerait Discord pour un rachat à 10 milliards de dollars dans le jeu vidéoLe service de communication pour le jeu vidéo en ligne pèserait ses options entre une introduction en Bourse ou une vente. Microsoft pourrait l'associer à son abonnement Game Pass.Hightech\n",
            "https://www.lesechos.fr/tech-medias/hightech/jack-dorsey-vend-son-tout-premier-tweet-pour-29-millions-de-dollars-1300716\n",
            "NFT : Jack Dorsey vend son tout premier tweet pour 2,9 millions de dollarsLe cofondateur de Twitter a vendu lundi le premier message qu'il avait posté sur son propre réseau social il y a quinze ans. Une transaction spectaculaire qui met en lumière l'engouement pour les « non-fungible tokens » (NFT), qui permettent de donner une valeur à des objets virtuels.Hightech\n",
            "https://www.lesechos.fr/tech-medias/hightech/reporters-sans-frontieres-porte-plainte-contre-facebook-pour-pratiques-commerciales-trompeuses-1300650\n",
            "Reporters sans frontières porte plainte contre Facebook pour pratiques commerciales trompeusesPour l'ONG, la prolifération de messages haineux et de fausses informations sur le réseau social est en contradiction avec les conditions générales d'utilisation et les campagnes publicitaires de Facebook. Déposée devant le procureur de la République de Paris, la plainte vise Facebook France et Facebook Irlande.Hightech\n",
            "https://www.lesechos.fr/tech-medias/hightech/au-coeur-de-lindustrie-israelienne-de-la-cybersurveillance-1300576\n",
            "EnquêteAu coeur de l'industrie israélienne de la cybersurveillanceFleuron technologique et industriel, le marché de la cybersurveillance israélienne connaît un boom phénoménal. Il représente l'un des principaux axes de rapprochement économique avec le reste du Moyen-Orient, en pleine recomposition.Hightech\n",
            "https://www.lesechos.fr/tech-medias/hightech/pour-se-relancer-sur-les-smartphones-nintendo-sassocie-a-niantic-dans-un-nouveau-jeu-de-realite-augmentee-1300572\n",
            "Pour grandir dans le jeu sur mobile, Nintendo s'associe à Niantic et mise sur la réalité augmentéeLe groupe japonais annonce un grand partenariat avec l'américain Niantic, qui a développé le jeu « Pokémon Go ». Les deux sociétés promettent le lancement courant 2021 d'un premier jeu conjoint basé sur la franchise Pikmin de Nintendo. A la Bourse de Tokyo, les investisseurs sont enthousiastes.Hightech\n",
            "https://www.lesechos.fr/tech-medias/hightech/facebook-a-purge-plus-dun-milliard-de-ses-comptes-fin-2020-1300534\n",
            "Facebook a purgé plus d'un milliard de ses comptes fin 2020Fin 2020, Facebook a supprimé 1,3 milliard de comptes fictifs ou malveillants, assure son vice-président Guy Rosen. La lutte contre les fausses informations s'est accélérée chez le géant américain, avec l'épidémie de Covid-19.Hightech\n",
            "https://www.lesechos.fr/tech-medias/medias/amazon-passe-a-la-vitesse-superieure-dans-la-video-en-france-1300525\n",
            "Amazon passe la vitesse supérieure dans la vidéo en FranceLe service de vidéo par abonnement du géant de l'e-commerce accélère à son tour dans les productions locales. Il annonce au total 25 projets de créations originales en Europe, contre un total de 30 accumulées jusqu'à maintenant.Médias\n",
            "https://www.lesechos.fr/tech-medias/hightech/chateau-le-sartre-lincubateur-au-milieu-des-vignes-1300517\n",
            "Château Le Sartre : l'incubateur au milieu des vignesLa propriété rachetée par Bernard Magrez en 2017 héberge depuis début janvier une trentaine de jeunes entreprises porteuses d'un projet innovant.Hightech\n",
            "https://www.lesechos.fr/tech-medias/hightech/fibre-optique-derniere-ligne-droite-pour-la-vente-des-reseaux-de-covage-1300480\n",
            "ExclusifFibre optique : dernière ligne droite pour la vente des réseaux de CovageSelon nos informations, cinq candidats, dont Altitude et Axione, ont fait preuve de leur intérêt pour les 25 réseaux de Covage mis en vente par SFR. L'opération se fait sur une fourchette comprise entre 400 et 500 millions d'euros de valorisation.Hightech\n",
            "https://www.lesechos.fr/industrie-services/conso-distribution/vin-en-cubi-spiritueux-et-prosecco-ont-profite-du-confinement-1301614\n",
            "Vin en cubi, spiritueux et prosecco ont profité du confinementLes ventes de vin en grandes et moyennes surfaces en 2020 ont augmenté, inversant la tendance au déclin observée depuis des années. Le rosé a particulièrement profité de la situation, comme les « bag-in-box », tandis que les appellations et les effervescents ont souffert. Sauf le prosecco italien, dont les ventes se sont envolées.Conso & Distribution\n",
            "https://www.lesechos.fr/industrie-services/conso-distribution/gorillas-la-start-up-de-livraison-de-produits-depicerie-qui-affole-les-compteurs-1301609\n",
            "Gorillas, la start-up de livraison de produits d'épicerie qui affole les compteursLa pépite allemande rejoint le club de licornes moins d'un an après sa fondation. Elle prépare son lancement dans cinquante villes, dont Paris, où elle devra affronter la concurrence de Cajoo et bientôt de Dija.Conso & Distribution\n",
            "https://www.lesechos.fr/industrie-services/air-defense/vive-les-cooperatives-1301591\n",
            "Vive les coopératives !Pour tout savoir de cette catégorie d'entreprises de l'économie sociale et solidaire, encore peu répandue en France.Air Défense\n",
            "https://www.lesechos.fr/industrie-services/tourisme-transport/la-chaine-dapprovisionnement-mondiale-perturbee-par-le-blocage-du-canal-de-suez-1301588\n",
            "La chaîne d'approvisionnement mondiale perturbée par le blocage du canal de SuezPlus d'une centaine de navires sont à l'ancre aux entrées nord et sud de la voie navigable reliant la mer Méditerranée à la mer Rouge. Près de 12 % du commerce mondial transite par cette route maritime. Son blocage a provoqué un regain de volatilité sur les cours du pétrole.Tourisme - Transport\n",
            "https://www.lesechos.fr/industrie-services/conso-distribution/royaume-uni-des-investisseurs-prennent-leurs-distances-avec-deliveroo-1301581\n",
            "Royaume-Uni : des investisseurs prennent leurs distances avec DeliverooAlors que la plateforme de livraison de repas envisage d'entrer à la Bourse de Londres en avril, deux grands fonds d'investissement britanniques ont annoncé qu'ils ne participeront pas à l'opération. En cause, le statut précaire et incertain des coursiers.Conso & Distribution\n",
            "https://www.lesechos.fr/industrie-services/tourisme-transport/la-deutsche-bahn-frappee-mais-pas-coulee-par-la-crise-sanitaire-1301576\n",
            "La Deutsche Bahn frappée mais pas coulée par la crise sanitaireLe groupe public allemand a essuyé en 2020 une perte de 5,7 milliards d'euros. Il maintient toutefois son programme d'investissement massif dans la modernisation de son réseau pour accompagner la transition climatique. Son fort endettement pourrait toutefois limiter ses ambitions.Tourisme - Transport\n",
            "https://www.lesechos.fr/industrie-services/conso-distribution/lustucru-pret-a-racheter-les-panzani-pour-creer-un-champion-francais-des-pates-1301573\n",
            "ExclusifLustucru prêt à racheter Panzani pour créer un champion français des pâtesL'Espagnol Ebro, propriétaire des pâtes Panzani, se dit ouvert à une vente s'il obtient environ 600 millions d'euros. Le groupe Lustucru, associé avec le fonds d'investissement CVC est sur les rangs.Conso & Distribution\n",
            "https://www.lesechos.fr/industrie-services/tourisme-transport/confinement-la-sncf-taille-dans-ses-frequences-la-ratp-sinterroge-1301560\n",
            "Confinement : la SNCF taille dans ses fréquences, la RATP s'interrogePour le mois d'avril, la SNCF enregistre une chute de 65 % de ses réservations par rapport à la normale. Elle réduit donc le nombre de ses TGV, déjà en baisse de 30 % par rapport à son programme classique.Tourisme - Transport\n",
            "https://www.lesechos.fr/industrie-services/conso-distribution/covid-des-entreprises-americaines-recompensent-les-employes-qui-se-font-vacciner-1301517\n",
            "Covid : des entreprises américaines récompensent les employés qui se font vaccinerCela se passe aux Etats-Unis, où la vaccination va bon train. Pour encourager les employés à s'immuniser contre le Covid, ces entreprises offrent congés payés, trajets remboursés, chèques-cadeaux… McDonald's, American Airlines et Target sont concernées.Conso & Distribution\n",
            "https://www.lesechos.fr/industrie-services/conso-distribution/philips-quitte-pour-de-bon-la-case-conglomerat-en-cedant-son-petit-electromenager-1301516\n",
            "Philips quitte pour de bon la case conglomérat en cédant son petit électroménagerAprès la musique, l'électronique ou l'éclairage, le petit électroménager : le groupe néerlandais a cédé sa division qui fabrique des cafetières, des purificateurs d'air ou encore des bouilloires au fonds d'investissement Hillhouse Capital. L'opération va lui rapporter 3,7 milliards d'euros et parachève son virage total vers la santé.Conso & Distribution\n",
            "https://www.lesechos.fr/industrie-services/conso-distribution/ouighours-la-chine-impose-aux-marques-etrangeres-de-choisir-leur-camp-1301477\n",
            "Ouïghours : la Chine pousse les marques étrangères à se positionnerH&M, Nike ou encore Adidas sont en pleine tourmente en Chine, confrontés à des appels aux boycotts sur les réseaux sociaux pour avoir renoncé au coton du Xinjiang, sur fond d'allégations de travail forcé imposé à la minorité ouïghoure.Conso & Distribution\n",
            "https://www.lesechos.fr/industrie-services/tourisme-transport/canal-de-suez-le-sauvetage-extreme-du-cargo-echoue-1301474\n",
            "Canal de Suez : le « sauvetage extrême » du cargo échouéLa marée haute a permis la reprise, mercredi matin, de l'opération de remorquage de l' « Ever Given », un porte-conteneurs long de 400 mètres et échoué en travers de la voie maritime. L'opération s'avère « extrêmement difficile » et pourrait durer de longues semaines dans le pire des scénarios.Tourisme - Transport\n",
            "https://www.lesechos.fr/industrie-services/conso-distribution/le-modele-roche-bobois-a-traverse-sans-encombre-la-crise-sanitaire-1301465\n",
            "Le modèle Roche Bobois a traversé sans encombre la crise sanitaireLa chaîne de magasins de meubles haut de gamme affiche pour 2020 des résultats en forte hausse. Le fruit d'une activité commerciale qui n'a pas été trop perturbée par presque deux mois de fermeture.Conso & Distribution\n",
            "https://www.lesechos.fr/industrie-services/services-conseils/covid-le-japon-donne-sans-enthousiasme-le-coup-denvoi-au-relais-de-la-flamme-olympique-1301439\n",
            "Covid : le Japon donne sans enthousiasme le coup d'envoi au relais de la flamme olympiqueLes organisateurs des Jeux de Tokyo 2020 veulent démontrer à une population sceptique qu'ils peuvent organiser, malgré la pandémie de Covid-19, une compétition en toute sécurité. Les 10.000 relayeurs vont courir dans un cadre ultra-protégé et souvent sans public.Services & Conseils\n",
            "https://www.lesechos.fr/industrie-services/services-conseils/le-philanthro-lab-la-station-f-du-mecenat-1301382\n",
            "Le Philanthro-Lab, la Station F du mécénatCet espace unique au monde de rencontre entre mécènes, porteurs de projets, associations et bénévoles veut encourager la philanthropie. Une initiative d'un mécène multirécidiviste, le fondateur de la Compagnie de Phalsbourg, dans le cadre du concours Réinventer Paris.Services & Conseils\n",
            "https://www.lesechos.fr/industrie-services/pharmacie-sante/covid-astrazeneca-avance-finalement-une-efficacite-de-76-de-son-vaccin-1301376\n",
            "Covid : AstraZeneca avance finalement une efficacité de 76 % de son vaccinPressé par des experts américains de fournir des données actualisées, le groupe suédo-britannique a revu les résultats de son vaccin développé avec l'université d'Oxford. Il avait annoncé précédemment une efficacité de 79 % contre les cas symptomatiques.Pharmacie - Santé\n",
            "https://www.lesechos.fr/industrie-services/conso-distribution/fraude-alimentaire-une-ong-denonce-une-pratique-savamment-occultee-1301370\n",
            "Fraude alimentaire : une ONG dénonce une pratique « savamment occultée »Foodwatch veut mettre en avant l'opacité d'un système où l'industrie agroalimentaire « sait mais ne dit rien », où « les choix politiques ne sont pas à la hauteur du problème ». Les pertes pour le secteur sont estimées à environ 30 milliards d'euros chaque année en Europe.Conso & Distribution\n",
            "https://www.lesechos.fr/industrie-services/mode-luxe/le-luxe-et-la-beaute-trustent-5-des-10-marques-francaises-les-plus-valorisees-1301318\n",
            "Le luxe et la beauté trustent 5 des 10 marques françaises les plus valoriséesSi Orange retrouve sa place de marque française la plus valorisée, selon Brand Finance, dans le Top 10 du classement établi par le cabinet apparaissent Louis Vuitton, Chanel, Cartier, Hermès et L'Oréal. Renault entre dans ce Top 10, où seule AXA voit sa valeur progresser, crise sanitaire oblige.Mode & Luxe\n",
            "https://www.lesechos.fr/industrie-services/conso-distribution/les-nouveaux-marchands-damazon-1301312\n",
            "EnquêteLes nouveaux marchands d'AmazonSur la place de marché d'Amazon, ils achètent non pas les produits, mais ceux qui les vendent : les « agrégateurs » dénichent les meilleurs vendeurs pour se constituer un portefeuille de marques très rentables. Plongée dans la mécanique de ces nouveaux marchands, qui ont levé des centaines de millions de dollars au cours des derniers mois.Conso & Distribution\n",
            "https://www.lesechos.fr/industrie-services/energie-environnement/nucleaire-a-bure-la-roche-est-mise-a-lepreuve-1301264\n",
            "Nucléaire : à Bure, la roche est mise à l'épreuveA 500 mètres sous terre, l'Andra éprouve les qualités de la roche argileuse dans laquelle elle envisage de stocker les déchets nucléaires les plus nocifs. Puis de les enfouir pour des milliers d'années.Énergie & Environnement\n",
            "https://www.lesechos.fr/industrie-services/energie-environnement/nucleaire-paris-plaide-pour-un-report-des-regles-de-la-finance-verte-1301263\n",
            "Nucléaire : Paris plaide pour un report des règles de la finance verteLa France redoute que le nucléaire soit exclu du texte européen sur la taxonomie. Paris plaide pour un report de l'adoption de ces règles qui doivent guider les investisseurs vers la finance durable.Énergie & Environnement\n",
            "https://www.lesechos.fr/industrie-services/tourisme-transport/londres-menace-les-anglais-damende-en-cas-de-vacances-a-letranger-1301256\n",
            "Londres menace les Anglais d'amende en cas de vacances à l'étrangerL'objectif est de décourager les voyages non essentiels pour éviter toute « importation » du virus, alors que la situation sanitaire du pays est désormais meilleure que nombre de ses voisins européens.Tourisme - Transport\n",
            "https://www.lesechos.fr/industrie-services/conso-distribution/des-ex-dirigeants-de-mcdonalds-soupconnes-de-blanchiment-de-fraude-fiscale-1301231\n",
            "Des ex-dirigeants de McDonald's soupçonnés de blanchiment de fraude fiscaleUne convention signée en 2009 entre la maison mère aux Etats-Unis et la filiale française aurait permis à McDonald's de diminuer l'imposition de sa branche tricolore de plusieurs centaines de millions d'euros. Un montage qui aurait rendu impossible toute participation aux bénéfices des salariés en France.Conso & Distribution\n",
            "https://www.lesechos.fr/industrie-services/mode-luxe/deux-stars-de-cinema-chinoises-renoncent-a-leur-partenariat-avec-h-m-1301228\n",
            "Ouïghours : après H & M, Nike en pleine tempête en ChineAprès H & M, le géant américain des articles sportifs Nike est devenu jeudi la cible d'une tempête médiatique en Chine après son boycott du coton du Xinjiang, sur fond d'allégations de 'travail forcé' imposé aux Ouïghours.Mode & Luxe\n",
            "https://www.lesechos.fr/industrie-services/conso-distribution/avec-lessor-du-commerce-en-ligne-des-litiges-toujours-plus-nombreux-1301226\n",
            "Avec l'essor du commerce en ligne, des litiges toujours plus nombreuxLes marques qui vendent leurs produits en ligne ont visiblement été débordées par l'essor de ce segment, lié à la pandémie de coronavirus. Commandes non livrées ou avec beaucoup de retard, refus de remboursement, pratiques commerciales abusives… le site litige.fr pointe des dérives de plus en plus fréquentes.Conso & Distribution\n",
            "https://www.lesechos.fr/finance-marches/banque-assurances/santander-reorganise-son-reseau-au-royaume-uni-et-supprime-600-emplois-1301610\n",
            "Santander réorganise son réseau au Royaume-Uni et supprime 600 emploisLa filiale britannique de la banque espagnole a annoncé la fermeture de quatre sites ainsi que le déplacement de son siège de Londres vers Milton Keynes. La pandémie ayant accéléré la transition vers les services de banque en ligne, elle compte également fermer 111 agences, soit 20 % de son réseau, ce qui devrait entraîner quelque 600 suppressions d'emplois.Banque & Assurances\n",
            "https://www.lesechos.fr/finance-marches/marches-financiers/cinq-cles-pour-comprendre-les-avantages-et-inconvenients-dun-spac-1301598\n",
            "Cinq clés pour comprendre les avantages et inconvénients d'un SPACPour les start-up, ce mécanisme permet de se soustraire au long processus d'introduction en Bourse classique. Il offre aussi généralement un prix d'introduction plus élevé.Marchés financiers\n",
            "https://www.lesechos.fr/finance-marches/marches-financiers/360-capital-lance-le-premier-spac-dedie-a-la-tech-sur-euronext-1301599\n",
            "Exclusif360 Capital lance le premier SPAC dédié à la Tech sur EuronextLe fonds de capital-risque parisien vise une levée de 250 millions d'euros et ambitionne de fusionner avec une start-up tricolore.Marchés financiers\n",
            "https://www.lesechos.fr/finance-marches/marches-financiers/danone-la-demission-de-lentreprise-a-mission-1301578\n",
            "PodcastDanone, la démission de l'entreprise à mission ?Pour « La Story », le podcast d'actualité des « Echos », Pierrick Fay et ses invités reviennent sur l'éviction d'Emmanuel Faber de son poste de PDG de Danone et s'interrogent sur ce que cela nous dit de l'entreprise à mission.Marchés financiers\n",
            "https://www.lesechos.fr/finance-marches/marches-financiers/spac-la-nouvelle-obsession-de-la-french-tech-1301577\n",
            "SPAC, la nouvelle obsession de la French TechCe véhicule financier qui permet de coter une entreprise en quelques mois débarque en France à travers des SPAC américains en quête de cibles européennes. Les entrepreneurs tricolores restent prudents, mais ne peuvent plus ignorer ce modèle de financement qui fait débat.Marchés financiers\n",
            "https://www.lesechos.fr/finance-marches/banque-assurances/la-monnaie-de-paris-veut-surfer-sur-lepargne-des-francais-1301563\n",
            "La Monnaie de Paris veut surfer sur l'épargne des FrançaisEn 2020, la Monnaie de Paris a enregistré un chiffre d'affaires en repli de 7 %. Cependant, l'institution qui frappe les pièces en France a enregistré une progression de 15 % de ses ventes de produits en or. Elle veut faire de cette activité un outil au service de la volonté de thésaurisation des Français en cette période de crise.Banque & Assurances\n",
            "https://www.lesechos.fr/finance-marches/marches-financiers/les-investisseurs-occidentaux-retrouvent-de-lappetit-pour-le-risque-russe-1301555\n",
            "DécryptageLes investisseurs occidentaux retrouvent de l'appétit pour le risque russeAprès la grande distribution, l'extraction d'or et peut-être bientôt le géant de pétrochimie, les introductions en Bourse de société russes se multiplient.Marchés financiers\n",
            "https://www.lesechos.fr/finance-marches/banque-assurances/patrick-cohen-nouveau-patron-du-navire-amiral-francais-de-lassureur-axa-1301600\n",
            "Patrick Cohen, nouveau patron du navire amiral français de l'assureur AXALe Franco-Italien arrivé dans le groupe en 2016 remplacera à partir du mois de mai Jacques de Peretti, un pilier historique de la maison. Les fonctions de président et directeur général de l'entité phare du géant de l'assurance européen vont être dissociées.Banque & Assurances\n",
            "https://www.lesechos.fr/finance-marches/banque-assurances/bpifrance-a-termine-lannee-2020-dans-le-rouge-1301485\n",
            "RésultatsBpifrance a terminé l'année 2020 dans le rougeLa Banque publique d'investissement a enregistré les premières pertes de sa jeune histoire. L'augmentation des provisions financières liées aux risques de défaut des entreprises et les fluctuations des marchés ont plombé ses comptes annuels.Banque & Assurances\n",
            "https://www.lesechos.fr/finance-marches/gestion-actifs/blackrock-au-coeur-dun-echange-muscle-au-senat-americain-1301472\n",
            "BlackRock au coeur d'un échange musclé au Sénat américainLa sénatrice Elizabeth Warren, critique de longue date de Wall Street, a interrogé la secrétaire au Trésor, Janet Yellen pour savoir si elle comptait demander à l'organisme de supervision financière de considérer le géant de la gestion d'actifs BlackRock comme une entreprise systémique.Gestion actifs\n",
            "https://www.lesechos.fr/finance-marches/marches-financiers/le-gendarme-boursier-met-les-particuliers-en-garde-contre-les-prestataires-financiers-chypriotes-1301467\n",
            "Le gendarme boursier met les particuliers en garde contre les prestataires financiers chypriotes60 % des réclamations et des pertes signalées par des épargnants français auprès de l'AMF depuis deux ans ont concerné des acteurs établis à Chypre. Ces établissements sont régulés par leur gendarme local, la Cysec, et non par l'AMF.Marchés financiers\n",
            "https://www.lesechos.fr/finance-marches/marches-financiers/la-devise-nord-coreenne-rattrapee-par-la-catastrophe-economique-que-traverse-le-pays-1301446\n",
            "FocusLa devise nord-coréenne rattrapée par la catastrophe économique que traverse le paysAprès son envolée en 2020, la devise nord-coréenne baisse cette année dans un pays durement frappé par la crise sanitaire mondiale et l'arrêt de son commerce avec la Chine. L'inflation remonte avec la chute de la production agricole causée par les inondations et qui accroît les risques de famine.Marchés financiers\n",
            "https://www.lesechos.fr/finance-marches/banque-assurances/lassureur-axa-renouvelle-en-profondeur-son-etat-major-et-change-de-patron-france-1301427\n",
            "L'assureur AXA renouvelle en profondeur son état-major et change de patron FranceLe poids lourd de l'assurance européen nomme deux directeurs généraux adjoints pour seconder Thomas Buberl. Le patron d'AXA France, Jacques de Peretti, va être remplacé par Patrick Cohen en mai.Banque & Assurances\n",
            "https://www.lesechos.fr/finance-marches/gestion-actifs/paris-veut-devenir-le-premier-centre-mondial-de-la-finance-a-impact-1301320\n",
            "ExclusifParis veut devenir le premier centre mondial de la finance à impactBercy mobilise les acteurs de la place pour parvenir à une définition de la finance à impact, qui se fixe des objectifs sociaux ou environnementaux. La notion pourrait avoir sa place dans la nouvelle version du label ISR, qui doit permettre à la France de rester en pointe dans la finance durable.Gestion actifs\n",
            "https://www.lesechos.fr/finance-marches/marches-financiers/la-bourse-de-londres-attire-a-nouveau-les-candidats-a-la-cotation-1301311\n",
            "DécryptageLa Bourse de Londres attire à nouveau les candidats à la cotationDepuis janvier, 12 entreprises ont fait leur premier pas à la Bourse de Londres. Depuis 2006, c'est le meilleur début d'année réalisé par la City. Le Royaume-Uni réfléchit à une réforme de ses règles de cotation pour séduire davantage de sociétés.Marchés financiers\n",
            "https://www.lesechos.fr/finance-marches/banque-assurances/bras-de-fer-entre-credit-agricole-et-des-actionnaires-de-litalien-creval-1301559\n",
            "Bras de fer entre Crédit Agricole et des actionnaires de l'italien CrevalLe groupe français fait face à la fronde d'un groupe d'actionnaires qui détiendraient ensemble quelque 20 % de Creval et juge son offre « inadéquate » et « insuffisante ». Selon nos informations, la banque régionale italienne devrait donner un avis négatif d'ici lundi.Banque & Assurances\n",
            "https://www.lesechos.fr/finance-marches/banque-assurances/proces-ubs-la-banque-fixee-sur-son-sort-le-27-septembre-1301285\n",
            "Procès UBS : la banque fixée sur son sort le 27 septembreL'audience du procès en appel pour blanchiment de fraude fiscale et démarchage illicite de la banque s'est close ce mardi avec les plaidoiries de la défense qui ont demandé la relaxe.Banque & Assurances\n",
            "https://www.lesechos.fr/finance-marches/banque-assurances/covea-attaque-au-penal-le-patron-de-scor-denis-kessler-1301233\n",
            "Covéa attaque au pénal le patron de SCOR, Denis KesslerEn conflit avec le réassureur depuis qu'il a tenté en vain de prendre son contrôle à l'été 2018, le groupe mutualiste reproche à Denis Kessler d'avoir manipulé le cours du titre SCOR et d'avoir dépensé des millions en frais d'avocats et de communication pour son seul intérêt personnel.Banque & Assurances\n",
            "https://www.lesechos.fr/finance-marches/banque-assurances/le-marche-des-professionnels-a-penalise-lassurance-francaise-en-2020-1301215\n",
            "Le marché des professionnels a pénalisé l'assurance française en 2020Le marché des professionnels et la prévoyance ont été durement impactés par la crise sanitaire. Au total, les indemnisations de sinistres ont augmenté de 2,9 milliards d'euros sur l'année, souligne le bilan de la Fédération française de l'assurance.Banque & Assurances\n",
            "https://www.lesechos.fr/finance-marches/marches-financiers/covid-alerte-sur-les-prix-agricoles-1301213\n",
            "PodcastCovid : alerte sur les prix agricolesPour « La Story », le podcast d'actualité des « Echos », Pierrick Fay et ses invités reviennent sur les conséquences de la crise sanitaire sur les marchés agricoles. La hausse des prix des matières premières constitue un risque pour la sécurité alimentaire mondiale.Marchés financiers\n",
            "https://www.lesechos.fr/finance-marches/banque-assurances/financements-des-energies-fossiles-bnp-paribas-repond-aux-critiques-1301262\n",
            "Financements des énergies fossiles : BNP Paribas répond aux critiquesDans un rapport publié mercredi, plusieurs ONG dénoncent l'accélération du financement des énergies fossiles par les banques en 2020. Pointé du doigt, BNP Paribas met en avant son soutien de l'économie.Banque & Assurances\n",
            "https://www.lesechos.fr/finance-marches/marches-financiers/bourse-les-mirages-de-la-nouvelle-ere-de-la-tech-1301211\n",
            "DécryptageBourse : les mirages de la « nouvelle ère » de la TechDans un monde façonné par la technologie, d'Internet à l'intelligence artificielle, les discours enthousiastes sur l'émergence d'une « nouvelle ère » connaissent un succès fou. Mais il n'est jamais simple de repérer les gagnants de demain.Marchés financiers\n",
            "https://www.lesechos.fr/finance-marches/banque-assurances/edmond-de-rothschild-mise-sur-les-fonds-illiquides-1301179\n",
            "Edmond de Rothschild mise sur les fonds « illiquides »La banque privée suisse fait le pari des actifs réels, comme le private equity, l'immobilier et la dette privée. Elle profite de l'intégration de sa filiale française.Banque & Assurances\n",
            "https://www.lesechos.fr/finance-marches/marches-financiers/cette-nouvelle-generation-dinvestisseurs-en-quete-dadrenaline-1301148\n",
            "DécryptageCette nouvelle génération d'investisseurs en quête d'adrénalineLa crise de la COVID-19 a suscité l'émergence d'une nouvelle génération d'investisseurs jeunes et prêts à prendre des risques importants sur les marchés. Adepte des réseaux sociaux et enthousiastes à l'égard des cryptos et bitcoin, elle recherche des sensations fortes autant que des bonnes affaires.Marchés financiers\n",
            "https://www.lesechos.fr/finance-marches/marches-financiers/le-royaume-uni-veut-contraindre-les-administrateurs-a-rendre-leurs-bonus-en-cas-de-faillite-1301107\n",
            "DécryptageLe Royaume-Uni veut contraindre les dirigeants à rendre leurs bonus en cas de failliteDans le cadre d'une vaste réforme que le gouvernement vient de présenter, ils pourraient devoir rendre leurs bonus jusqu'à deux ans après leur versement, en cas de manquement grave ou de faillite.Marchés financiers\n",
            "https://www.lesechos.fr/pme-regions/ile-de-france/sevran-le-projet-terre-deau-change-de-visage-1301639\n",
            "Sevran : le projet « Terre d'Eau » change de visageLauréat 2017 d'Inventons la Métropole du Grand Paris, le programme « Terre d'Eau », tourné vers l'implantation d'un centre nautique et sa vague artificielle à Sevran, évolue. Avec l'activation d'une consultation et d'un Conseil participatif, la Ville veut redessiner le projet avec les habitants.Île-de-France\n",
            "https://www.lesechos.fr/pme-regions/ile-de-france/letat-veut-implanter-de-lactivite-economique-dans-les-quartiers-de-la-seine-saint-denis-1301627\n",
            "L'Etat veut implanter de l'activité économique dans les quartiers de la Seine-Saint-DenisL'intercommunalité d'Est Ensemble figure parmi les 14 collectivités choisies pour expérimenter le programme « Quartiers productifs », lancé le 18 mars par le ministère de la Ville. L'objectif : implanter des lieux d'activité économique au coeur des quartiers classés prioritaires en politique de la ville.Île-de-France\n",
            "https://www.lesechos.fr/pme-regions/ile-de-france/yvelines-nouvelle-victoire-juridique-pour-lagriculteur-bio-a-adainville-1301594\n",
            "Yvelines : nouvelle victoire juridique pour l'agriculteur bio à AdainvilleLe Conseil d'Etat vient de rejeter le pourvoi en cassation déposé contre la décision du tribunal administratif de Versailles. Ce dernier a estimé que le permis de construire autorisant un agriculteur à s'installer à Adainville est légal. La bataille juridique n'est pas terminée pour autant.Île-de-France\n",
            "https://www.lesechos.fr/pme-regions/ile-de-france/nanterre-icade-remet-les-cles-dorigine-le-nouveau-siege-de-technip-energies-1301590\n",
            "Nanterre : Icade remet les clés d'Origine, le nouveau siège de Technip EnergiesLe bâtiment, très performant sur le plan énergétique doit être inauguré dans quelques mois, et accueillera à terme 3.000 salariés. Icade a investi 450 millions d'euros dans l'opération.Île-de-France\n",
            "https://www.lesechos.fr/pme-regions/ile-de-france/essonne-saint-pierre-du-perray-doit-faire-face-a-une-ardoise-de-700000-euros-1301580\n",
            "Essonne : Saint-Pierre du Perray doit faire face à une ardoise de 700.000 eurosDans un avis rendu le 16 mars dernier, la chambre régionale des comptes (CRC) d'Ile-de-France demande à la commune de Saint-Pierre-du-Perray de rééquilibrer son budget 2020. Ce dernier présente un déficit de fonctionnement de 716.500 euros.Île-de-France\n",
            "https://www.lesechos.fr/pme-regions/ile-de-france/essonne-election-municipale-en-mai-a-ris-orangis-1301572\n",
            "Essonne : élection municipale en mai à Ris-OrangisUne élection municipale partielle intégrale est organisée à Ris-Orangis les 2 et 9 mai prochain. Elle fait suite à la démission des conseillers municipaux de la majorité, face aux plaintes déposées par des élus de l'opposition.Île-de-France\n",
            "https://www.lesechos.fr/pme-regions/hauts-de-france/evenementiel-alive-groupe-sarme-en-attendant-la-reprise-1301564\n",
            "Evénementiel : Alive Groupe s'arme en attendant la repriseLe numéro trois français des prestataires techniques de l'événementiel vient de réaliser deux acquisitions, dont une PME du Val-d'Oise spécialisée dans la location de mobilier pour l'événementiel.Hauts-de-France\n",
            "https://www.lesechos.fr/pme-regions/auvergne-rhone-alpes/kem-one-change-sa-deuxieme-electrolyse-pour-100-millions-deuros-1301543\n",
            "Kem One change sa deuxième électrolyse pour 100 millions d'eurosLe deuxième fabricant européen de PVC continue d'investir massivement dans la réduction de ses coûts de production et de son empreinte environnementale, sur l'étang de Berre comme à Lyon. Le groupe cible sa consommation énergétique et ses rejets de chlorure de vinyle.Auvergne-Rhône-Alpes\n",
            "https://www.lesechos.fr/pme-regions/occitanie/systemes-electroniques-la-penurie-de-puces-met-actia-sous-pression-1301542\n",
            "Systèmes électroniques : la pénurie de puces met Actia sous pressionLe fabricant de systèmes électroniques de véhicules envisage de fermer deux jours par mois son usine toulousaine. La pénurie de composants électroniques, dont les livraisons ne représentaient que 5 % de ses commandes en février, affecte sa fabrication de boîtiers de télématique. Il est contraint de s'approvisionner chez des brokers à des prix plus élevés.Occitanie\n",
            "https://www.lesechos.fr/pme-regions/actualite-pme/cannabusiness-les-boutiques-de-cbd-fleurissent-avant-une-possible-legalisation-1301541\n",
            "« Cannabusiness » : les boutiques de CBD fleurissent avant une possible légalisationLes boutiques vendant des produits à base de CBD, une molécule non psychotrope tirée du chanvre, se multiplient. Le gouvernement se prépare à donner un « cadre juridique sécurisant » pour les acteurs de la filière. Ce qui ouvrira la voie à un marché estimé à un milliard d'euros par an.Actualité PME\n",
            "https://www.lesechos.fr/pme-regions/bretagne/le-port-de-peche-de-lorient-sollicite-par-le-sultanat-doman-1301520\n",
            "Le port de pêche de Lorient sollicité par le Sultanat d'OmanLe port de pêche de Lorient a remporté un appel à manifestation d'intérêt initié par le Sultanat d'Oman. Un consortium est créé en vue de la conception, la réalisation et l'exploitation d'un important port de pêche dans la ville côtière de Duqm.Bretagne\n",
            "https://www.lesechos.fr/pme-regions/occitanie/royal-canin-veut-agir-contre-les-abandons-danimaux-1301515\n",
            "Royal Canin veut agir contre les abandons d'animauxLe fabricant français et fournisseur mondial de nourriture spécialisée pour chats et chiens (groupe Mars), basé à Aimargues dans le Gard, lance une plateforme d'adoption responsable de chatons. Les adoptions ont augmenté pendant la crise sanitaire, mais les abandons pourraient progresser d'autant au moment de la reprise, alerte l'industriel.Occitanie\n",
            "https://www.lesechos.fr/pme-regions/occitanie/jean-romain-brunet-nomme-directeur-general-de-la-regie-autonome-de-port-camargue-1301512\n",
            "Jean-Romain Brunet nommé directeur général de la régie autonome de Port-CamargueJean-Romain Brunet succède à Michel Cavaillès à la direction générale de la régie autonome de Port-Camargue, premier port de plaisance d'Europe, avec plus de 5.000 postes d'amarrage. La nomination a fait l'objet d'une délibération du conseil municipal le 17 mars et d'un vote du conseil d'administration de la régie, le 19 mars.Occitanie\n",
            "https://www.lesechos.fr/pme-regions/occitanie/lopen-tourisme-lab-devoile-ses-14-start-up-laureates-1301506\n",
            "L'Open Tourisme Lab dévoile ses 14 start-up lauréatesLe 17 mars, l'Open Tourisme Lab (OTL), plateforme d'open innovation dédiée au secteur du tourisme basée à Nîmes, a dévoilé sa nouvelle promotion. 14 start-up rejoignent le programme d'accélération déployé sur un an, à partir de ce mois de mars.Occitanie\n",
            "https://www.lesechos.fr/pme-regions/grand-est/mosquee-de-strasbourg-la-prefete-du-grand-est-monte-a-son-tour-au-creneau-1301504\n",
            "Mosquée de Strasbourg : la préfète du Grand Est monte à son tour au créneauLa maire de Strasbourg, Jeanne Barseghian, affirme qu'elle n'a reçu aucune mise en garde des services de l'Etat relative à la construction de la mosquée Eyyub Sultan. Des « informations inexactes », rétorque Josiane Chevalier qui assure avoir « personnellement » fait part de sa « préoccupation ».Grand Est\n",
            "https://www.lesechos.fr/pme-regions/ile-de-france/hauts-de-seine-environnement-92-plante-des-arbres-pour-verdir-le-departement-1301447\n",
            "Environnement 92 plante des arbres pour verdir les Hauts-de-SeineL'association propose une opération clé en main aux villes carencées en espaces verts pour planter dix arbres sur leur territoire.Île-de-France\n",
            "https://www.lesechos.fr/pme-regions/ile-de-france/jo-2024-champigny-sur-marne-prepare-un-retour-a-la-baignade-dans-la-marne-1301429\n",
            "JO 2024 : Champigny-sur-Marne prépare un retour à la baignade dans la MarneLe conseil départemental du Val de Marne a confié à NGE la réalisation d'une station de dépollution des eaux pluviales pour 2024, une des conditions pour que les eaux de la Marne, et in fine de la Seine, soient baignables en vue des épreuves de natation en eau libre des JO.Île-de-France\n",
            "https://www.lesechos.fr/pme-regions/hauts-de-france/en-pleine-crise-laeronautique-picarde-fonde-des-espoirs-sur-le-ferroviaire-1301404\n",
            "En pleine crise, l'aéronautique picarde fonde des espoirs sur le ferroviaireAlors que les PSE se multiplient dans le secteur aéronautique, dans le Nord-Picardie, industriels et pouvoirs publics tentent d'imaginer de nouvelles solutions pour permettre aux sous-traitants de passer le trou d'air. Des passerelles avec la filière ferroviaire sont à l'étude.Hauts-de-France\n",
            "https://www.lesechos.fr/pme-regions/provence-alpes-cote-dazur/six-tentatives-pour-ragaillardir-lagriculture-1301403\n",
            "Six tentatives pour ragaillardir l'agricultureLe monde agricole se réinvente pour vivre plus décemment de son travail. Suppression des intermédiaires, vente en ligne, transformation directe de la matière première et autre « crowdfunding » s'invitent à la ferme.Provence-Alpes-Côte d'Azur\n",
            "https://www.lesechos.fr/pme-regions/auvergne-rhone-alpes/le-traiteur-pierre-martinet-augmente-ses-capacites-de-production-et-de-stockage-1301400\n",
            "Le traiteur Pierre Martinet augmente ses capacités de production et de stockagePour faire face aux pics de consommation de l'été, le fabricant isérois de salades traiteur vient d'injecter 15 millions d'euros dans son outil industriel.Auvergne-Rhône-Alpes\n",
            "https://www.lesechos.fr/pme-regions/occitanie/les-domaines-pierre-chavin-accelerent-dans-les-vins-sans-alcool-1301397\n",
            "Les Domaines Pierre Chavin accélèrent dans les vins sans alcoolCréée à Béziers en 2010, la maison de négoce viticole veut devenir le leader national des vins sans alcool, qui pèsent désormais 30 % de son activité. La demande est en pleine expansion sur ce segment, mais sur le marché britannique, le Brexit va entraîner une hausse des prix.Occitanie\n",
            "https://www.lesechos.fr/pme-regions/pays-de-la-loire/record-daudience-pour-le-vendee-globe-1301387\n",
            "Record d'audience pour le Vendée GlobeCette édition hors du commun, organisée à huis clos, a connu un record d'audience sans précédent. Absent des pontons, le public a suivi massivement la course autour du monde en solitaire sur tous les médias.Pays de la Loire\n",
            "https://www.lesechos.fr/pme-regions/bretagne/morbihan-lauzach-labellisee-territoire-bio-engage-1301385\n",
            "Morbihan : Lauzach labellisée Territoire bio engagéLauzach est la première commune de Bretagne à obtenir ce label. Il lui est attribué car 28 % de sa surface agricole est en production bio.Bretagne\n",
            "https://www.lesechos.fr/pme-regions/auvergne-rhone-alpes/a-lyon-le-college-truffaut-en-pleine-cure-de-jouvence-1301365\n",
            "A Lyon, le collège Truffaut en pleine cure de jouvenceAu sommet des pentes de la Croix Rousse, le collège lyonnais va s'ouvrir sur le quartier et accueillir une résidence étudiante, une auberge de jeunesse et une crèche. Le fruit d'une réhabilitation placée sous le signe environnemental par la Métropole et la Mairie.Auvergne-Rhône-Alpes\n",
            "https://www.lesechos.fr/pme-regions/auvergne-rhone-alpes/lyon-la-vallee-de-la-chimie-poursuit-sa-mue-ecologique-avec-les-laureats-des-ateliers-cleantech-1301364\n",
            "Lyon : la Vallée de la Chimie poursuit sa mue écologique avec les lauréats des Ateliers CleantechLe nouvel appel de la plateforme industrielle Lyon-Vallée de la chimie a été entendu jusqu'à Toulouse, Paris et Barcelone : les neuf lauréats des Ateliers Cleantech, dans le cadre du programme Territoires d'innovation de grande ambition (Tiga), sont loin d'être tous régionaux. Preuve que l'attractivité lyonnaise n'est pas retombée, même chez les industriels ?Auvergne-Rhône-Alpes\n",
            "https://www.lesechos.fr/patrimoine/placement/investir-sur-les-fonds-solidaires-et-de-partage-1301469\n",
            "Investir sur les fonds solidaires et de partageQuand un fonds passe au scanner du label ISR (investissement socialement responsable), l'aspect social des entreprises est toujours examiné. Reste que certains véhicules vont plus loin. Ils investissent dans des entreprises solidaires ou partagent le rendement avec des associations.Placement\n",
            "https://www.lesechos.fr/patrimoine/impots/bailleurs-soutenez-vos-locataires-et-beneficiez-dune-economie-fiscale-1301455\n",
            "ChroniqueBailleurs : soutenez vos locataires et bénéficiez d'une économie fiscale !Les bailleurs qui acceptent de faire cadeau du loyer de novembre dernier aux professionnels concernés par les mesures restrictives prises pour lutter contre la pandémie bénéficient, sous conditions, d'un crédit d'impôt.Impôts\n",
            "https://www.lesechos.fr/patrimoine/placement/placements-durables-sy-retrouver-dans-la-foire-aux-labels-1301449\n",
            "Placements durables : s'y retrouver dans la foire aux labelsL'univers de l'investissement socialement responsable (ISR) détient sans doute le record des labellisations et certificats en tout genre. Un foisonnement qui peut nuire à leur lisibilité. Explications.Placement\n",
            "https://www.lesechos.fr/patrimoine/placement/placements-durables-la-ruee-vers-lor-bleu-1301351\n",
            "Placements durables : la ruée vers l'or bleuL'eau est une ressource naturelle en lien direct avec les problématiques environnementales. Plusieurs « fonds eau » ont été créés ces dernières années. Ils sont réputés défensifs dans un marché qui ne cesse de se développer.Placement\n",
            "https://www.lesechos.fr/patrimoine/impots/declaration-dimpots-2021-pea-pea-pme-et-pea-jeune-quels-sont-les-gains-imposables-1301122\n",
            "Déclaration d'impôts 2021 : PEA, PEA-PME et PEA jeune, quels sont les gains imposables ?Ces enveloppes fiscales vous permettent d'investir en actions en bénéficiant d'un régime fiscal avantageux. Mais en cas de retraits ou clôture, que faut-il déclarer ? Les gains sont-ils taxables ?Impôts\n",
            "https://www.lesechos.fr/patrimoine/immobilier/immobilier-le-moral-des-francais-remonte-1301114\n",
            "Immobilier : le moral des Français remonteUn an après le premier confinement, une étude d'Artémis courtage réalisée par OpinionWay a sondé les projets d'achat immobilier des ménages.Immobilier\n",
            "https://www.lesechos.fr/patrimoine/placement/donner-du-sens-a-ses-investissements-privilegier-le-climat-1301085\n",
            "Donner du sens à ses investissements : privilégier le climatL'irruption de la pandémie, il y a déjà un an, a changé la façon d'épargner. Certains ont eu envie d'aller à l'essentiel et d'investir en privilégiant le sens. Parmi les thématiques les plus motivantes pour les citoyens et les épargnants, celle du climat. L'offre en la matière abonde. Ce qu'il faut savoir pour investir en ligne avec ses convictions.Placement\n",
            "https://www.lesechos.fr/patrimoine/investissements-plaisir/nft-quelle-place-pour-les-creations-virtuelles-dans-le-marche-de-lart-1301070\n",
            "NFT : quelle place pour les créations virtuelles dans le marché de l'art ?La vente pour 69,3 millions de dollars d'une oeuvre virtuelle unique, garantie par une inscription sur un livret numérisé, inaugure un pont entre le monde des adeptes du virtuel et le marché de l'art classique. Analyse des premiers pas d'un marché révolutionnaire.Investissements plaisir\n",
            "https://www.lesechos.fr/patrimoine/immobilier/la-maison-de-la-semaine-un-grand-manoir-dans-le-vexin-a-45-min-de-paris-1300848\n",
            "La maison de la semaine : un grand manoir dans le Vexin, à 45 min de ParisCet ancien relais de chasse se situe dans le village de Longuesse (95), au coeur du parc naturel régional du Vexin français. Ce secteur est très recherché pour la beauté de ses paysages et son riche patrimoine culturel.Immobilier\n",
            "https://www.lesechos.fr/patrimoine/immobilier/immobilier-le-credit-se-feminise-pendant-la-crise-covid-1300844\n",
            "Immobilier : le crédit se féminise pendant la crise CovidQuel est le profil type du souscripteur d'un crédit immobilier ? Pour La Centrale de Financement, courtier spécialisé, il est de plus en plus féminin et en mode solo. Une tendance accentuée par la pandémie.Immobilier\n",
            "https://www.lesechos.fr/patrimoine/placement/placements-quelles-solutions-pour-votre-epargne-liquide-1300819\n",
            "Placements : quelles solutions pour votre épargne liquide ?La crise sanitaire renforce l'appétit des ménages pour des placements sûrs et disponibles à tout moment. Mais dans un contexte de taux bas, les choix se réduisent pour placer son argent à court terme.Placement\n",
            "https://www.lesechos.fr/patrimoine/impots/declaration-dimpots-2021-les-plus-values-des-dirigeants-partant-a-la-retraite-1300379\n",
            "Déclaration d'impôts 2021 : les plus-values des dirigeants partant à la retraiteAprès une vie passée à valoriser son entreprise, le dirigeant qui part à la retraite a droit à un régime de faveur pour l'imposition de ses plus-values à l'occasion de la cession de ses titres. Quelles sont les conditions pour en bénéficier et les pièges à éviter ?Impôts\n",
            "https://www.lesechos.fr/patrimoine/impots/declaration-dimpot-2021-quand-cest-automatique-1300069\n",
            "Déclaration d'impôt 2021 : quand c'est automatiqueFaite-vous partie de ceux qui n'ont plus à faire de déclaration de revenus ? Nombre de contribuables sont désormais exonérés de cette corvée. Attention, cela n'exclut pas les vérifications.Impôts\n",
            "https://www.lesechos.fr/patrimoine/immobilier/immobilier-du-grand-paris-les-secteurs-ou-investir-ceux-a-eviter-1299940\n",
            "Immobilier du Grand Paris : les secteurs où investir, ceux à éviterL'immobilier résidentiel d'Ile-de-France classé en 8 grandes familles de marchés. C'est ce que propose de façon totalement inédite l'Institut de l'Epargne Immobilière et Foncière (IEIF). Un outil d'analyse très utile pour les investisseurs intéressés par le Grand Paris, afin d'identifier les quartiers où investir et ceux à éviter. Le résultat réserve quelques surprises. Portrait-robot des 8 classes d'actifs.Immobilier\n",
            "https://www.lesechos.fr/patrimoine/impots/transmission-savoir-manier-les-avantages-de-lassurance-vie-1299844\n",
            "Transmission : savoir manier les avantages de l'assurance-vieL'assurance-vie est une piste à privilégier pour transmettre un capital à ses proches dans des conditions fiscales très avantageuses. Les règles en vigueur sont complexes, car différentes réformes se sont superposées.Impôts\n",
            "https://www.lesechos.fr/patrimoine/investissements-plaisir/aux-encheres-deux-oeuvres-rares-de-munch-dans-lambiance-2021-1299739\n",
            "Aux enchères, deux oeuvres rares de Munch… dans l'ambiance 2021Deux rares tableaux du père du fameux « Cri » sont mis sur le marché tandis qu'à Oslo rouvrira cet été, dans un nouveau bâtiment, le musée qui lui est consacré. L'artiste, qui se disait lui-même fou, était un champion de l'autopromotion.Investissements plaisir\n",
            "https://www.lesechos.fr/patrimoine/impots/votre-assurance-vie-est-elle-vraiment-hors-succession-1299617\n",
            "ChroniqueVotre assurance-vie est-elle vraiment « hors succession » ?En principe, les fonds placés en assurance-vie ne sont pas soumis aux droits de succession et échappent aux règles de la réserve héréditaire. Encore faut-il connaître les subtilités qui permettent d'accéder à ce régime de faveur.Impôts\n",
            "https://www.lesechos.fr/patrimoine/immobilier/immobilier-les-francais-anticipent-de-nouvelles-hausses-de-prix-1299406\n",
            "En chiffresImmobilier : les Français anticipent de nouvelles hausses de prixLa majorité des Français pense que les prix de l'immobilier vont continuer à augmenter en France. Quel impact la crise sanitaire a-t-elle sur leur perception du marché immobilier ? Sur leurs projets ?Immobilier\n",
            "https://www.lesechos.fr/patrimoine/impots/3-moyens-de-transmettre-son-patrimoine-a-moindres-frais-1299302\n",
            "3 moyens de transmettre son patrimoine à moindres fraisL'anticipation est toujours payante, même en matière de transmission de patrimoine ! Transmettre tout ou partie de ses biens de son vivant permet de réduire la base de calcul des droits de mutation à titre gratuit, qui croît mécaniquement avec le temps. Décryptage de 3 stratégies payantes.Impôts\n",
            "https://www.lesechos.fr/patrimoine/assurance/palmares-de-lassurance-vie-les-meilleurs-et-les-pires-rendements-des-fonds-en-euros-1299153\n",
            "Palmarès de l'assurance-vie : les meilleurs et les pires rendements des fonds en eurosLes rendements 2020 des fonds en euros des contrats d'assurance-vie poursuivent leur baisse. Sauf exception, les meilleurs se retrouvent désormais sous la barre des 2 %. Le recul devrait continuer en 2021.Assurance\n",
            "https://www.lesechos.fr/patrimoine/impots/declaration-dimpots-2021-limposition-des-plus-values-sur-les-actions-1299067\n",
            "Déclaration d'impôts 2021 : l'imposition des plus-values sur les actionsL'année boursière 2020 a été marquée par une grande volatilité. Certains investisseurs ont toutefois su tirer parti des variations de cours pour dégager des plus-values. Comment sont-elles taxées ?Impôts\n",
            "https://www.lesechos.fr/patrimoine/impots/credit-dimpot-covid-pour-abandon-de-loyers-pouvez-vous-en-beneficier-1299033\n",
            "DécryptageCrédit d'impôt Covid pour abandon de loyers : pouvez-vous en bénéficier ?Les bailleurs acceptant de renoncer au loyer du mois de novembre de professionnels concernés par les mesures restrictives prises pour lutter contre la pandémie, peuvent bénéficier d'un crédit d'impôt. Voici, en détail, les conditions pour l'obtenir.Impôts\n",
            "https://www.lesechos.fr/patrimoine/immobilier/la-maison-de-la-semaine-un-chalet-a-araches-la-frasse-1299014\n",
            "La maison de la semaine : un chalet à Arâches-la-FrasseCette ancienne ferme alpine du XIXe siècle se situe sur le domaine skiable des Carroz d'Arâches et proche de celui de Flaine. Le chalet est constitué de deux appartements, sur un terrain de 4.500 mètres carrés avec des dépendances.Immobilier\n",
            "https://www.lesechos.fr/patrimoine/impots/declaration-dimpots-2021-noubliez-pas-le-plafonnement-des-niches-fiscales-1298297\n",
            "Déclaration d'impôts 2021 : n'oubliez pas le plafonnement des niches fiscalesLes investissements sont parfois motivés par un bonus fiscal. Mais n'oubliez pas que leur montant global est plafonné. Rien ne sert donc d'accumuler les niches. Sauf exceptions, le montant maximal déductible de l'impôt reste fixé à 10.000 euros par an.Impôts\n",
            "https://www.lesechos.fr/patrimoine/impots/declaration-dimpots-2021-quand-toucherez-vous-vos-reductions-et-credits-dimpot-1298298\n",
            "Déclaration d'impôts 2021 : quand toucherez-vous vos réductions et crédits d'impôt ?Avec le prélèvement à la source, l'impôt est désormais contemporain du revenu. Mais le taux qui s'applique à vos salaires, retraites ou revenus divers ne tient pas compte des crédits et réductions d'impôt. Un inconvénient rectifié par le versement d'un acompte mi-janvier.Impôts\n"
          ],
          "name": "stdout"
        }
      ]
    },
    {
      "cell_type": "code",
      "metadata": {
        "id": "Pvdlo8drfOtF"
      },
      "source": [
        "data  = pd.DataFrame({\n",
        "        'titles': titles,\n",
        "        'contents': content,\n",
        "        'urls': new_url,\n",
        "        'labels': label\n",
        "})"
      ],
      "execution_count": null,
      "outputs": []
    },
    {
      "cell_type": "code",
      "metadata": {
        "colab": {
          "base_uri": "https://localhost:8080/"
        },
        "id": "W-tFwzJ240CT",
        "outputId": "c666e760-7bd8-4cab-9fe3-0bc0a3a9999d"
      },
      "source": [
        "len(content)"
      ],
      "execution_count": null,
      "outputs": [
        {
          "output_type": "execute_result",
          "data": {
            "text/plain": [
              "200"
            ]
          },
          "metadata": {
            "tags": []
          },
          "execution_count": 141
        }
      ]
    },
    {
      "cell_type": "code",
      "metadata": {
        "id": "nfIi761Mjfjg"
      },
      "source": [
        "from sklearn.feature_extraction.text import TfidfVectorizer\n",
        "from sklearn.cluster import KMeans\n",
        "import numpy as np\n",
        "import pandas as pd\n",
        "from nltk.corpus import stopwords\n",
        "\n"
      ],
      "execution_count": null,
      "outputs": []
    },
    {
      "cell_type": "code",
      "metadata": {
        "colab": {
          "base_uri": "https://localhost:8080/"
        },
        "id": "lUaitgBboAnw",
        "outputId": "cbac8b49-cefa-401e-bc21-c8e2aeb47946"
      },
      "source": [
        "nltk.download(\"stopwords\")\n",
        "nltk.download('punkt')\n",
        "\n",
        "\n",
        "sw = stopwords.words('french') \n",
        "sw.extend(['a',\"d'\",\"n'\",\"l'\",'plus','moins','être','comme','avoir','ici','faire','faut','non','dit','ans','2020','2021','cette','mois','depuis','tous','contre','sous','cet'])\n"
      ],
      "execution_count": null,
      "outputs": [
        {
          "output_type": "stream",
          "text": [
            "[nltk_data] Downloading package stopwords to /root/nltk_data...\n",
            "[nltk_data]   Package stopwords is already up-to-date!\n",
            "[nltk_data] Downloading package punkt to /root/nltk_data...\n",
            "[nltk_data]   Package punkt is already up-to-date!\n"
          ],
          "name": "stdout"
        }
      ]
    },
    {
      "cell_type": "code",
      "metadata": {
        "id": "MbziUwf3lPOh"
      },
      "source": [
        "\n",
        "vectorizer = TfidfVectorizer(stop_words=sw)\n",
        "text = data['contents'].values.astype(\"U\")\n",
        "X = vectorizer.fit_transform(text)"
      ],
      "execution_count": null,
      "outputs": []
    },
    {
      "cell_type": "code",
      "metadata": {
        "colab": {
          "base_uri": "https://localhost:8080/"
        },
        "id": "WEt0a6EalT_w",
        "outputId": "7bfd5186-18df-47f6-cec2-f6893782cc9e"
      },
      "source": [
        "true_k = 10\n",
        "model = KMeans(n_clusters=true_k, init='k-means++', max_iter=100, n_init=1)\n",
        "model.fit(X)"
      ],
      "execution_count": null,
      "outputs": [
        {
          "output_type": "execute_result",
          "data": {
            "text/plain": [
              "KMeans(algorithm='auto', copy_x=True, init='k-means++', max_iter=100,\n",
              "       n_clusters=10, n_init=1, n_jobs=None, precompute_distances='auto',\n",
              "       random_state=None, tol=0.0001, verbose=0)"
            ]
          },
          "metadata": {
            "tags": []
          },
          "execution_count": 145
        }
      ]
    },
    {
      "cell_type": "code",
      "metadata": {
        "id": "UVvLYWHBnLRx"
      },
      "source": [
        "order_centroids = model.cluster_centers_.argsort()[:, ::-1]\n",
        "terms = vectorizer.get_feature_names()"
      ],
      "execution_count": null,
      "outputs": []
    },
    {
      "cell_type": "code",
      "metadata": {
        "colab": {
          "base_uri": "https://localhost:8080/"
        },
        "id": "8gGGoponnNmQ",
        "outputId": "239b8358-7c04-41ea-adfe-2f72c6454454"
      },
      "source": [
        "result =[]\n",
        "\n",
        "for i in range(true_k):\n",
        "  print(\"Cluster %d:\" + str(i))\n",
        "  word_number = 10\n",
        "  temp = []\n",
        "  for ind in order_centroids[i, :word_number]:\n",
        "    temp.append(terms[ind])\n",
        "    \n",
        "    print(terms[ind])\n",
        "  result.append(temp)\n",
        "\n",
        "data['cluster']= model.labels_"
      ],
      "execution_count": null,
      "outputs": [
        {
          "output_type": "stream",
          "text": [
            "Cluster %d:0\n",
            "prix\n",
            "france\n",
            "banque\n",
            "an\n",
            "hausse\n",
            "selon\n",
            "crise\n",
            "français\n",
            "entreprises\n",
            "baisse\n",
            "Cluster %d:1\n",
            "covid\n",
            "réanimation\n",
            "lits\n",
            "vaccination\n",
            "patients\n",
            "france\n",
            "soins\n",
            "établissements\n",
            "vont\n",
            "ile\n",
            "Cluster %d:2\n",
            "vaccination\n",
            "doses\n",
            "vaccins\n",
            "vaccin\n",
            "astrazeneca\n",
            "covid\n",
            "millions\n",
            "ue\n",
            "pays\n",
            "européenne\n",
            "Cluster %d:3\n",
            "travail\n",
            "france\n",
            "gouvernement\n",
            "entreprise\n",
            "sociaux\n",
            "salariés\n",
            "entreprises\n",
            "après\n",
            "fait\n",
            "covid\n",
            "Cluster %d:4\n",
            "projet\n",
            "ville\n",
            "bio\n",
            "espaces\n",
            "association\n",
            "euros\n",
            "commerce\n",
            "lorient\n",
            "maires\n",
            "texte\n",
            "Cluster %d:5\n",
            "usines\n",
            "puces\n",
            "tsmc\n",
            "électroniques\n",
            "intel\n",
            "géant\n",
            "semi\n",
            "production\n",
            "composants\n",
            "philips\n",
            "Cluster %d:6\n",
            "millions\n",
            "production\n",
            "eau\n",
            "euros\n",
            "site\n",
            "groupe\n",
            "salaires\n",
            "deux\n",
            "directeur\n",
            "six\n",
            "Cluster %d:7\n",
            "dette\n",
            "finances\n",
            "dépenses\n",
            "rembourser\n",
            "arthuis\n",
            "loyer\n",
            "bailleurs\n",
            "sociale\n",
            "rapport\n",
            "publiques\n",
            "Cluster %d:8\n",
            "milliards\n",
            "euros\n",
            "épargne\n",
            "assurance\n",
            "abattement\n",
            "vie\n",
            "solidaire\n",
            "télécoms\n",
            "plafond\n",
            "impôt\n",
            "Cluster %d:9\n",
            "régionales\n",
            "élections\n",
            "pea\n",
            "bertrand\n",
            "xavier\n",
            "présidentielle\n",
            "scrutin\n",
            "port\n",
            "tour\n",
            "campagne\n"
          ],
          "name": "stdout"
        }
      ]
    },
    {
      "cell_type": "code",
      "metadata": {
        "id": "f0DTzRSrb3y7"
      },
      "source": [
        "print(“\\n”)\n",
        "print(“Prediction”)\n",
        "X = vectorizer.transform([\"Nothing is easy in cricket. Maybe when you watch it on TV, it looks easy. But it is not. You have to use your brain and time the ball.\"])\n",
        "predicted = model.predict(X)\n",
        "print(predicted)"
      ],
      "execution_count": null,
      "outputs": []
    },
    {
      "cell_type": "code",
      "metadata": {
        "colab": {
          "base_uri": "https://localhost:8080/",
          "height": 204
        },
        "id": "G-RwfyGPhqGp",
        "outputId": "e646e759-1886-4922-cf42-8bf60c898cc8"
      },
      "source": [
        "pd.set_option('display.max_rows', None)\n",
        "data.head()"
      ],
      "execution_count": null,
      "outputs": [
        {
          "output_type": "execute_result",
          "data": {
            "text/html": [
              "<div>\n",
              "<style scoped>\n",
              "    .dataframe tbody tr th:only-of-type {\n",
              "        vertical-align: middle;\n",
              "    }\n",
              "\n",
              "    .dataframe tbody tr th {\n",
              "        vertical-align: top;\n",
              "    }\n",
              "\n",
              "    .dataframe thead th {\n",
              "        text-align: right;\n",
              "    }\n",
              "</style>\n",
              "<table border=\"1\" class=\"dataframe\">\n",
              "  <thead>\n",
              "    <tr style=\"text-align: right;\">\n",
              "      <th></th>\n",
              "      <th>titles</th>\n",
              "      <th>contents</th>\n",
              "      <th>urls</th>\n",
              "      <th>labels</th>\n",
              "      <th>cluster</th>\n",
              "    </tr>\n",
              "  </thead>\n",
              "  <tbody>\n",
              "    <tr>\n",
              "      <th>0</th>\n",
              "      <td>Islamisme : la majorité à l'offensive contre l...</td>\n",
              "      <td>L'occasion était trop belle pour ne pas la sai...</td>\n",
              "      <td>https://www.lesechos.fr/politique-societe/poli...</td>\n",
              "      <td>politique-societe</td>\n",
              "      <td>4</td>\n",
              "    </tr>\n",
              "    <tr>\n",
              "      <th>1</th>\n",
              "      <td>Ile-de-France : l'idée d'avancer les vacances ...</td>\n",
              "      <td>A une semaine de l'échéance potentielle, la qu...</td>\n",
              "      <td>https://www.lesechos.fr/politique-societe/soci...</td>\n",
              "      <td>politique-societe</td>\n",
              "      <td>1</td>\n",
              "    </tr>\n",
              "    <tr>\n",
              "      <th>2</th>\n",
              "      <td>ExclusifSONDAGE EXCLUSIF - Elections régionale...</td>\n",
              "      <td>Ce n'est encore qu'un tassement, mais c'est dé...</td>\n",
              "      <td>https://www.lesechos.fr/politique-societe/poli...</td>\n",
              "      <td>politique-societe</td>\n",
              "      <td>9</td>\n",
              "    </tr>\n",
              "    <tr>\n",
              "      <th>3</th>\n",
              "      <td>ExclusifCovid : la France joue sur la crise po...</td>\n",
              "      <td>L'embellie avec la pandémie. « En termes d'att...</td>\n",
              "      <td>https://www.lesechos.fr/politique-societe/soci...</td>\n",
              "      <td>politique-societe</td>\n",
              "      <td>0</td>\n",
              "    </tr>\n",
              "    <tr>\n",
              "      <th>4</th>\n",
              "      <td>Loi Climat : les commerçants défendent les écr...</td>\n",
              "      <td>A quelques jours du début de son examen par le...</td>\n",
              "      <td>https://www.lesechos.fr/politique-societe/soci...</td>\n",
              "      <td>politique-societe</td>\n",
              "      <td>4</td>\n",
              "    </tr>\n",
              "  </tbody>\n",
              "</table>\n",
              "</div>"
            ],
            "text/plain": [
              "                                              titles  ... cluster\n",
              "0  Islamisme : la majorité à l'offensive contre l...  ...       4\n",
              "1  Ile-de-France : l'idée d'avancer les vacances ...  ...       1\n",
              "2  ExclusifSONDAGE EXCLUSIF - Elections régionale...  ...       9\n",
              "3  ExclusifCovid : la France joue sur la crise po...  ...       0\n",
              "4  Loi Climat : les commerçants défendent les écr...  ...       4\n",
              "\n",
              "[5 rows x 5 columns]"
            ]
          },
          "metadata": {
            "tags": []
          },
          "execution_count": 150
        }
      ]
    },
    {
      "cell_type": "markdown",
      "metadata": {
        "id": "AWgvDo5JuasW"
      },
      "source": [
        ""
      ]
    },
    {
      "cell_type": "code",
      "metadata": {
        "id": "P15ayBQhhrNO"
      },
      "source": [
        "def createComparisonArray(labels): # function that takes an iterable and returns an array with true value for each value wich are the same base on the index\n",
        "  label_array = []\n",
        "  for i in  labels:\n",
        "    temp =[]\n",
        "    for j in labels:\n",
        "      if i == j:\n",
        "        temp.append(True)\n",
        "      else:\n",
        "        temp.append(False)\n",
        "    label_array.append(temp)\n",
        "  return label_array"
      ],
      "execution_count": null,
      "outputs": []
    },
    {
      "cell_type": "code",
      "metadata": {
        "id": "d3F1hlu-uGeA"
      },
      "source": [
        "labels_comparison = createComparisonArray(data['labels'])\n",
        "cluster_array = createComparisonArray(data['cluster'])"
      ],
      "execution_count": null,
      "outputs": []
    },
    {
      "cell_type": "code",
      "metadata": {
        "id": "MHnKnTyXqI0D"
      },
      "source": [
        "def array_comparison(first_array,second_array): #function to compare to array and \n",
        "  res=0\n",
        "  for i in range(0,len(first_array)):\n",
        "    for j in range(0,len(first_array[0])):\n",
        "      if first_array[i][j]== second_array[i][j]:\n",
        "        res+=1\n",
        "  final_res = res / (len(first_array)*len(first_array[0]))\n",
        "  \n",
        "  return final_res\n",
        "\n"
      ],
      "execution_count": null,
      "outputs": []
    },
    {
      "cell_type": "code",
      "metadata": {
        "colab": {
          "base_uri": "https://localhost:8080/"
        },
        "id": "Q3FFypgipwhg",
        "outputId": "49a83cb3-ba75-4b38-c081-c1dfd6f58726"
      },
      "source": [
        "a=array_comparison(label_array,cluster_array)\n",
        "a"
      ],
      "execution_count": null,
      "outputs": [
        {
          "output_type": "stream",
          "text": [
            "40000\n"
          ],
          "name": "stdout"
        },
        {
          "output_type": "execute_result",
          "data": {
            "text/plain": [
              "0.7887"
            ]
          },
          "metadata": {
            "tags": []
          },
          "execution_count": 193
        }
      ]
    },
    {
      "cell_type": "code",
      "metadata": {
        "id": "roionblDsVUm",
        "colab": {
          "base_uri": "https://localhost:8080/"
        },
        "outputId": "c02b109b-2e28-40d5-f7f5-63f75687e8a9"
      },
      "source": [
        "pd.set_option('display.max_rows', None)\n",
        "def title_associated(target, data):\n",
        "\n",
        "  count = 0\n",
        "  for eleme in data['cluster']:\n",
        "    if eleme == target:\n",
        "      print(data['titles'][count])\n",
        "      print(eleme)\n",
        "    count = count+1\n"
      ],
      "execution_count": 69,
      "outputs": [
        {
          "output_type": "stream",
          "text": [
            "ExclusifLustucru prêt à racheter Panzani pour créer un champion français des pâtesL'Espagnol Ebro, propriétaire des pâtes Panzani, se dit ouvert à une vente s'il obtient environ 600 millions d'euros. Le groupe Lustucru, associé avec le fonds d'investissement CVC est sur les rangs.Conso & Distribution\n",
            "2\n",
            "Santander réorganise son réseau au Royaume-Uni et supprime 600 emploisLa filiale britannique de la banque espagnole a annoncé la fermeture de quatre sites ainsi que le déplacement de son siège de Londres vers Milton Keynes. La pandémie ayant accéléré la transition vers les services de banque en ligne, elle compte également fermer 111 agences, soit 20 % de son réseau, ce qui devrait entraîner quelque 600 suppressions d'emplois.Banque & Assurances\n",
            "2\n",
            "Cinq clés pour comprendre les avantages et inconvénients d'un SPACPour les start-up, ce mécanisme permet de se soustraire au long processus d'introduction en Bourse classique. Il offre aussi généralement un prix d'introduction plus élevé.Marchés financiers\n",
            "2\n",
            "Immobilier : le crédit se féminise pendant la crise CovidQuel est le profil type du souscripteur d'un crédit immobilier ? Pour La Centrale de Financement, courtier spécialisé, il est de plus en plus féminin et en mode solo. Une tendance accentuée par la pandémie.Immobilier\n",
            "2\n",
            "Placements : quelles solutions pour votre épargne liquide ?La crise sanitaire renforce l'appétit des ménages pour des placements sûrs et disponibles à tout moment. Mais dans un contexte de taux bas, les choix se réduisent pour placer son argent à court terme.Placement\n",
            "2\n"
          ],
          "name": "stdout"
        }
      ]
    },
    {
      "cell_type": "code",
      "metadata": {
        "id": "DNylag7TvbYq"
      },
      "source": [
        ""
      ],
      "execution_count": null,
      "outputs": []
    },
    {
      "cell_type": "code",
      "metadata": {
        "id": "CdEl4-9CvRIq"
      },
      "source": [
        ""
      ],
      "execution_count": null,
      "outputs": []
    },
    {
      "cell_type": "code",
      "metadata": {
        "id": "czSk8_1XvMmO"
      },
      "source": [
        ""
      ],
      "execution_count": null,
      "outputs": []
    },
    {
      "cell_type": "code",
      "metadata": {
        "id": "o_D55ngpvKmN"
      },
      "source": [
        ""
      ],
      "execution_count": null,
      "outputs": []
    },
    {
      "cell_type": "code",
      "metadata": {
        "id": "edPACbPNvEWR"
      },
      "source": [
        ""
      ],
      "execution_count": null,
      "outputs": []
    }
  ]
}